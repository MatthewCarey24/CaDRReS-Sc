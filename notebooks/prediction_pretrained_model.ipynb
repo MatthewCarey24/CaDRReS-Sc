{
 "cells": [
  {
   "cell_type": "markdown",
   "metadata": {},
   "source": [
    "# Prediction based on CaDRReS-Sc pre-trained model\n",
    "This notebook show an example of how load a pre-trained CaDRReS-SC model and predict drug response based on new data."
   ]
  },
  {
   "cell_type": "code",
   "execution_count": 132,
   "metadata": {
    "ExecuteTime": {
     "end_time": "2020-12-04T02:37:42.695742Z",
     "start_time": "2020-12-04T02:37:41.056123Z"
    }
   },
   "outputs": [
    {
     "data": {
      "text/plain": [
       "<module 'cadrres_sc.evaluation' from 'c:\\\\Users\\\\carey\\\\Desktop\\\\CaDRReS-Sc\\\\cadrres_sc\\\\evaluation.py'>"
      ]
     },
     "execution_count": 132,
     "metadata": {},
     "output_type": "execute_result"
    }
   ],
   "source": [
    "import sys, os, pickle\n",
    "from collections import Counter\n",
    "import importlib\n",
    "from ipywidgets import widgets\n",
    "import warnings\n",
    "warnings.filterwarnings('ignore')\n",
    "import pandas as pd\n",
    "import numpy as np\n",
    "\n",
    "scriptpath = '..'\n",
    "sys.path.append(os.path.abspath(scriptpath))\n",
    "\n",
    "from cadrres_sc import pp, model, evaluation, utility\n",
    "importlib.reload(model)\n",
    "importlib.reload(evaluation)"
   ]
  },
  {
   "cell_type": "markdown",
   "metadata": {},
   "source": [
    "# Read pre-trained model"
   ]
  },
  {
   "cell_type": "code",
   "execution_count": 49,
   "metadata": {
    "ExecuteTime": {
     "end_time": "2020-12-04T02:37:42.699136Z",
     "start_time": "2020-12-04T02:37:42.697188Z"
    }
   },
   "outputs": [],
   "source": [
    "model_dir = '../my_models/'"
   ]
  },
  {
   "cell_type": "code",
   "execution_count": 50,
   "metadata": {
    "ExecuteTime": {
     "end_time": "2020-12-04T02:37:42.708045Z",
     "start_time": "2020-12-04T02:37:42.700518Z"
    }
   },
   "outputs": [],
   "source": [
    "obj_function = widgets.Dropdown(options=['cadrres-wo-sample-bias', 'cadrres-wo-sample-bias-weight'], description='Objetice function')"
   ]
  },
  {
   "cell_type": "code",
   "execution_count": 51,
   "metadata": {
    "ExecuteTime": {
     "end_time": "2020-12-04T02:37:42.713078Z",
     "start_time": "2020-12-04T02:37:42.709492Z"
    }
   },
   "outputs": [
    {
     "data": {
      "application/vnd.jupyter.widget-view+json": {
       "model_id": "f43d6404fa084d3ea8be97030c0fa30c",
       "version_major": 2,
       "version_minor": 0
      },
      "text/plain": [
       "Dropdown(description='Objetice function', options=('cadrres-wo-sample-bias', 'cadrres-wo-sample-bias-weight'),…"
      ]
     },
     "metadata": {},
     "output_type": "display_data"
    }
   ],
   "source": [
    "#choose which model you have trained previously\n",
    "display(obj_function)"
   ]
  },
  {
   "cell_type": "markdown",
   "metadata": {},
   "source": [
    "## Load the pre-trained model based on your selection\n"
   ]
  },
  {
   "cell_type": "code",
   "execution_count": 71,
   "metadata": {
    "ExecuteTime": {
     "end_time": "2020-12-04T02:37:42.717566Z",
     "start_time": "2020-12-04T02:37:42.714275Z"
    }
   },
   "outputs": [
    {
     "data": {
      "text/plain": [
       "226"
      ]
     },
     "execution_count": 71,
     "metadata": {},
     "output_type": "execute_result"
    }
   ],
   "source": [
    "model_spec_name = obj_function.value\n",
    "model_file = model_dir + '{}_param_dict.pickle'.format(model_spec_name)\n",
    "\n",
    "cadrres_model = model.load_model(model_file)"
   ]
  },
  {
   "cell_type": "markdown",
   "metadata": {},
   "source": [
    "# Read test data\n",
    "Again, for this example we load GDSC dataset.\n",
    "@TODO: GDSC dataset using only essential gene list?\n",
    "\n",
    "Note: GDSC_exp.tsv can be downloaded from https://www.dropbox.com/s/3v576mspw5yewbm/GDSC_exp.tsv?dl=0\n",
    "\n",
    "## Notes for other test data\n",
    "\n",
    "You can apply the model to other gene expression dataset. The input gene expression matrix should have been normalized, i.e. **for each sample, expression values are comparable across genes**. \n",
    "\n",
    "In this example the gene expression matrix provided by GDSC is already normalized using RMA.\n",
    "\n",
    "For RNA-seq data, read count should be normalized by gene length, using normalization methods such as TPM."
   ]
  },
  {
   "cell_type": "code",
   "execution_count": 53,
   "metadata": {
    "ExecuteTime": {
     "end_time": "2020-12-04T02:37:45.949356Z",
     "start_time": "2020-12-04T02:37:42.718689Z"
    }
   },
   "outputs": [
    {
     "name": "stdout",
     "output_type": "stream",
     "text": [
      "Dataframe shape: (17419, 1018) \n",
      "\n"
     ]
    },
    {
     "data": {
      "text/html": [
       "<div>\n",
       "<style scoped>\n",
       "    .dataframe tbody tr th:only-of-type {\n",
       "        vertical-align: middle;\n",
       "    }\n",
       "\n",
       "    .dataframe tbody tr th {\n",
       "        vertical-align: top;\n",
       "    }\n",
       "\n",
       "    .dataframe thead th {\n",
       "        text-align: right;\n",
       "    }\n",
       "</style>\n",
       "<table border=\"1\" class=\"dataframe\">\n",
       "  <thead>\n",
       "    <tr style=\"text-align: right;\">\n",
       "      <th></th>\n",
       "      <th>906826</th>\n",
       "      <th>687983</th>\n",
       "      <th>910927</th>\n",
       "      <th>1240138</th>\n",
       "      <th>1240139</th>\n",
       "      <th>906792</th>\n",
       "      <th>910688</th>\n",
       "      <th>1240135</th>\n",
       "      <th>1290812</th>\n",
       "      <th>907045</th>\n",
       "      <th>...</th>\n",
       "      <th>753584</th>\n",
       "      <th>907044</th>\n",
       "      <th>998184</th>\n",
       "      <th>908145</th>\n",
       "      <th>1659787</th>\n",
       "      <th>1298157</th>\n",
       "      <th>1480372</th>\n",
       "      <th>1298533</th>\n",
       "      <th>930299</th>\n",
       "      <th>905954.1</th>\n",
       "    </tr>\n",
       "    <tr>\n",
       "      <th>GENE</th>\n",
       "      <th></th>\n",
       "      <th></th>\n",
       "      <th></th>\n",
       "      <th></th>\n",
       "      <th></th>\n",
       "      <th></th>\n",
       "      <th></th>\n",
       "      <th></th>\n",
       "      <th></th>\n",
       "      <th></th>\n",
       "      <th></th>\n",
       "      <th></th>\n",
       "      <th></th>\n",
       "      <th></th>\n",
       "      <th></th>\n",
       "      <th></th>\n",
       "      <th></th>\n",
       "      <th></th>\n",
       "      <th></th>\n",
       "      <th></th>\n",
       "      <th></th>\n",
       "    </tr>\n",
       "  </thead>\n",
       "  <tbody>\n",
       "    <tr>\n",
       "      <th>A1BG</th>\n",
       "      <td>6.208447</td>\n",
       "      <td>5.025810</td>\n",
       "      <td>5.506955</td>\n",
       "      <td>4.208349</td>\n",
       "      <td>3.399366</td>\n",
       "      <td>4.917872</td>\n",
       "      <td>3.828088</td>\n",
       "      <td>5.146903</td>\n",
       "      <td>3.107543</td>\n",
       "      <td>5.062066</td>\n",
       "      <td>...</td>\n",
       "      <td>4.272172</td>\n",
       "      <td>3.435025</td>\n",
       "      <td>4.930052</td>\n",
       "      <td>2.900213</td>\n",
       "      <td>4.523712</td>\n",
       "      <td>5.074951</td>\n",
       "      <td>2.957153</td>\n",
       "      <td>3.089628</td>\n",
       "      <td>4.047364</td>\n",
       "      <td>5.329524</td>\n",
       "    </tr>\n",
       "    <tr>\n",
       "      <th>A1CF</th>\n",
       "      <td>2.981775</td>\n",
       "      <td>2.947547</td>\n",
       "      <td>2.872071</td>\n",
       "      <td>3.075478</td>\n",
       "      <td>2.853231</td>\n",
       "      <td>3.221491</td>\n",
       "      <td>2.996355</td>\n",
       "      <td>2.893977</td>\n",
       "      <td>2.755668</td>\n",
       "      <td>2.985650</td>\n",
       "      <td>...</td>\n",
       "      <td>2.941659</td>\n",
       "      <td>3.155536</td>\n",
       "      <td>2.983619</td>\n",
       "      <td>3.118312</td>\n",
       "      <td>2.975409</td>\n",
       "      <td>2.905804</td>\n",
       "      <td>2.944488</td>\n",
       "      <td>2.780003</td>\n",
       "      <td>2.870819</td>\n",
       "      <td>2.926353</td>\n",
       "    </tr>\n",
       "  </tbody>\n",
       "</table>\n",
       "<p>2 rows × 1018 columns</p>\n",
       "</div>"
      ],
      "text/plain": [
       "        906826    687983    910927   1240138   1240139    906792    910688  \\\n",
       "GENE                                                                         \n",
       "A1BG  6.208447  5.025810  5.506955  4.208349  3.399366  4.917872  3.828088   \n",
       "A1CF  2.981775  2.947547  2.872071  3.075478  2.853231  3.221491  2.996355   \n",
       "\n",
       "       1240135   1290812    907045  ...    753584    907044    998184  \\\n",
       "GENE                                ...                                 \n",
       "A1BG  5.146903  3.107543  5.062066  ...  4.272172  3.435025  4.930052   \n",
       "A1CF  2.893977  2.755668  2.985650  ...  2.941659  3.155536  2.983619   \n",
       "\n",
       "        908145   1659787   1298157   1480372   1298533    930299  905954.1  \n",
       "GENE                                                                        \n",
       "A1BG  2.900213  4.523712  5.074951  2.957153  3.089628  4.047364  5.329524  \n",
       "A1CF  3.118312  2.975409  2.905804  2.944488  2.780003  2.870819  2.926353  \n",
       "\n",
       "[2 rows x 1018 columns]"
      ]
     },
     "execution_count": 53,
     "metadata": {},
     "output_type": "execute_result"
    }
   ],
   "source": [
    "gene_exp_df = pd.read_csv('../data/GDSC/GDSC_exp.tsv', sep='\\t', index_col=0)\n",
    "gene_exp_df = gene_exp_df.groupby(gene_exp_df.index).mean()\n",
    "print(\"Dataframe shape:\", gene_exp_df.shape, \"\\n\")\n",
    "gene_exp_df.head(2)"
   ]
  },
  {
   "cell_type": "markdown",
   "metadata": {},
   "source": [
    "## Calculate fold-change\n",
    "We normalized baseline gene expression values for each gene by computing fold-changes compared to the median value across cell-lines"
   ]
  },
  {
   "cell_type": "code",
   "execution_count": 54,
   "metadata": {
    "ExecuteTime": {
     "end_time": "2020-12-04T02:37:49.916450Z",
     "start_time": "2020-12-04T02:37:45.950650Z"
    }
   },
   "outputs": [],
   "source": [
    "cell_line_log2_mean_fc_exp_df, cell_line_mean_exp_df = pp.gexp.normalize_log2_mean_fc(gene_exp_df)"
   ]
  },
  {
   "cell_type": "markdown",
   "metadata": {},
   "source": [
    "## Read essential genes list\n",
    "\n",
    "Or in case you want your training using one specific set of genes."
   ]
  },
  {
   "cell_type": "code",
   "execution_count": 55,
   "metadata": {
    "ExecuteTime": {
     "end_time": "2020-12-04T02:37:49.922448Z",
     "start_time": "2020-12-04T02:37:49.918253Z"
    }
   },
   "outputs": [],
   "source": [
    "ess_gene_list = utility.get_gene_list('../data/essential_genes.txt')"
   ]
  },
  {
   "cell_type": "markdown",
   "metadata": {},
   "source": [
    "## Calculate kernel feature \n",
    "\n",
    "Based on all given cell line samples with gene expression profiles and a list of genes (e.g. essential gene list). This step might take a bit more time than usual."
   ]
  },
  {
   "cell_type": "code",
   "execution_count": 19,
   "metadata": {
    "ExecuteTime": {
     "start_time": "2020-12-04T02:37:40.976Z"
    }
   },
   "outputs": [
    {
     "name": "stdout",
     "output_type": "stream",
     "text": [
      "Calculating kernel features based on 591 common genes\n",
      "(17419, 1018) (17419, 1018)\n",
      "100 of 1018 (72.09)s\n",
      "200 of 1018 (72.82)s\n",
      "300 of 1018 (72.84)s\n",
      "400 of 1018 (77.45)s\n",
      "500 of 1018 (84.25)s\n",
      "600 of 1018 (83.22)s\n",
      "700 of 1018 (76.33)s\n",
      "800 of 1018 (73.21)s\n",
      "900 of 1018 (73.08)s\n",
      "1000 of 1018 (73.12)s\n"
     ]
    }
   ],
   "source": [
    "test_kernel_df = pp.gexp.calculate_kernel_feature(cell_line_log2_mean_fc_exp_df, cell_line_log2_mean_fc_exp_df, ess_gene_list)"
   ]
  },
  {
   "cell_type": "code",
   "execution_count": 56,
   "metadata": {
    "ExecuteTime": {
     "start_time": "2020-12-04T02:37:40.976Z"
    }
   },
   "outputs": [
    {
     "name": "stdout",
     "output_type": "stream",
     "text": [
      "Dataframe shape: (1018, 1018) \n",
      "\n"
     ]
    },
    {
     "data": {
      "text/html": [
       "<div>\n",
       "<style scoped>\n",
       "    .dataframe tbody tr th:only-of-type {\n",
       "        vertical-align: middle;\n",
       "    }\n",
       "\n",
       "    .dataframe tbody tr th {\n",
       "        vertical-align: top;\n",
       "    }\n",
       "\n",
       "    .dataframe thead th {\n",
       "        text-align: right;\n",
       "    }\n",
       "</style>\n",
       "<table border=\"1\" class=\"dataframe\">\n",
       "  <thead>\n",
       "    <tr style=\"text-align: right;\">\n",
       "      <th></th>\n",
       "      <th>906826</th>\n",
       "      <th>687983</th>\n",
       "      <th>910927</th>\n",
       "      <th>1240138</th>\n",
       "      <th>1240139</th>\n",
       "      <th>906792</th>\n",
       "      <th>910688</th>\n",
       "      <th>1240135</th>\n",
       "      <th>1290812</th>\n",
       "      <th>907045</th>\n",
       "      <th>...</th>\n",
       "      <th>753584</th>\n",
       "      <th>907044</th>\n",
       "      <th>998184</th>\n",
       "      <th>908145</th>\n",
       "      <th>1659787</th>\n",
       "      <th>1298157</th>\n",
       "      <th>1480372</th>\n",
       "      <th>1298533</th>\n",
       "      <th>930299</th>\n",
       "      <th>905954.1</th>\n",
       "    </tr>\n",
       "  </thead>\n",
       "  <tbody>\n",
       "    <tr>\n",
       "      <th>906826</th>\n",
       "      <td>1.000000</td>\n",
       "      <td>0.086192</td>\n",
       "      <td>0.041425</td>\n",
       "      <td>0.071927</td>\n",
       "      <td>0.202293</td>\n",
       "      <td>-0.029861</td>\n",
       "      <td>-0.120344</td>\n",
       "      <td>0.146482</td>\n",
       "      <td>0.312897</td>\n",
       "      <td>0.081833</td>\n",
       "      <td>...</td>\n",
       "      <td>0.311786</td>\n",
       "      <td>-0.193352</td>\n",
       "      <td>-0.117408</td>\n",
       "      <td>-0.025511</td>\n",
       "      <td>0.281567</td>\n",
       "      <td>0.250319</td>\n",
       "      <td>0.203752</td>\n",
       "      <td>0.034862</td>\n",
       "      <td>0.088211</td>\n",
       "      <td>0.064251</td>\n",
       "    </tr>\n",
       "    <tr>\n",
       "      <th>687983</th>\n",
       "      <td>0.086192</td>\n",
       "      <td>1.000000</td>\n",
       "      <td>0.162319</td>\n",
       "      <td>-0.085682</td>\n",
       "      <td>0.097823</td>\n",
       "      <td>0.102867</td>\n",
       "      <td>-0.121224</td>\n",
       "      <td>-0.069853</td>\n",
       "      <td>0.064681</td>\n",
       "      <td>0.065166</td>\n",
       "      <td>...</td>\n",
       "      <td>-0.022742</td>\n",
       "      <td>-0.020703</td>\n",
       "      <td>0.069880</td>\n",
       "      <td>-0.048270</td>\n",
       "      <td>-0.034882</td>\n",
       "      <td>0.063103</td>\n",
       "      <td>-0.032428</td>\n",
       "      <td>-0.100407</td>\n",
       "      <td>0.097560</td>\n",
       "      <td>0.080860</td>\n",
       "    </tr>\n",
       "  </tbody>\n",
       "</table>\n",
       "<p>2 rows × 1018 columns</p>\n",
       "</div>"
      ],
      "text/plain": [
       "          906826    687983    910927   1240138   1240139    906792    910688  \\\n",
       "906826  1.000000  0.086192  0.041425  0.071927  0.202293 -0.029861 -0.120344   \n",
       "687983  0.086192  1.000000  0.162319 -0.085682  0.097823  0.102867 -0.121224   \n",
       "\n",
       "         1240135   1290812    907045  ...    753584    907044    998184  \\\n",
       "906826  0.146482  0.312897  0.081833  ...  0.311786 -0.193352 -0.117408   \n",
       "687983 -0.069853  0.064681  0.065166  ... -0.022742 -0.020703  0.069880   \n",
       "\n",
       "          908145   1659787   1298157   1480372   1298533    930299  905954.1  \n",
       "906826 -0.025511  0.281567  0.250319  0.203752  0.034862  0.088211  0.064251  \n",
       "687983 -0.048270 -0.034882  0.063103 -0.032428 -0.100407  0.097560  0.080860  \n",
       "\n",
       "[2 rows x 1018 columns]"
      ]
     },
     "execution_count": 56,
     "metadata": {},
     "output_type": "execute_result"
    }
   ],
   "source": [
    "print(\"Dataframe shape:\", test_kernel_df.shape, \"\\n\")\n",
    "test_kernel_df.head(2)"
   ]
  },
  {
   "cell_type": "markdown",
   "metadata": {},
   "source": [
    "# Drug response prediction"
   ]
  },
  {
   "cell_type": "code",
   "execution_count": 57,
   "metadata": {
    "ExecuteTime": {
     "start_time": "2020-12-04T02:37:40.977Z"
    }
   },
   "outputs": [
    {
     "name": "stdout",
     "output_type": "stream",
     "text": [
      "Predicting drug response using CaDRReS: cadrres-wo-sample-bias\n",
      "dict_keys(['W_P', 'W_Q', 'b_P', 'b_Q', 'mse_train_vals', 'drug_list', 'kernel_sample_list', 'sample_list_train'])\n",
      "done!\n"
     ]
    }
   ],
   "source": [
    "print('Predicting drug response using CaDRReS: {}'.format(model_spec_name))\n",
    "pred_df, P_test_df= model.predict_from_model(cadrres_model, test_kernel_df, model_spec_name)\n",
    "print('done!')"
   ]
  },
  {
   "cell_type": "markdown",
   "metadata": {},
   "source": [
    "Inspecting the model predictions and save the predictions"
   ]
  },
  {
   "cell_type": "code",
   "execution_count": 66,
   "metadata": {
    "ExecuteTime": {
     "start_time": "2020-12-04T02:37:40.978Z"
    }
   },
   "outputs": [
    {
     "name": "stdout",
     "output_type": "stream",
     "text": [
      "(1018, 226)\n"
     ]
    },
    {
     "data": {
      "text/html": [
       "<div>\n",
       "<style scoped>\n",
       "    .dataframe tbody tr th:only-of-type {\n",
       "        vertical-align: middle;\n",
       "    }\n",
       "\n",
       "    .dataframe tbody tr th {\n",
       "        vertical-align: top;\n",
       "    }\n",
       "\n",
       "    .dataframe thead th {\n",
       "        text-align: right;\n",
       "    }\n",
       "</style>\n",
       "<table border=\"1\" class=\"dataframe\">\n",
       "  <thead>\n",
       "    <tr style=\"text-align: right;\">\n",
       "      <th>Drug ID</th>\n",
       "      <th>1</th>\n",
       "      <th>1001</th>\n",
       "      <th>1003</th>\n",
       "      <th>1004</th>\n",
       "      <th>1005</th>\n",
       "      <th>1006</th>\n",
       "      <th>1007</th>\n",
       "      <th>1008</th>\n",
       "      <th>1009</th>\n",
       "      <th>1010</th>\n",
       "      <th>...</th>\n",
       "      <th>64</th>\n",
       "      <th>71</th>\n",
       "      <th>83</th>\n",
       "      <th>86</th>\n",
       "      <th>87</th>\n",
       "      <th>88</th>\n",
       "      <th>89</th>\n",
       "      <th>9</th>\n",
       "      <th>91</th>\n",
       "      <th>94</th>\n",
       "    </tr>\n",
       "  </thead>\n",
       "  <tbody>\n",
       "    <tr>\n",
       "      <th>906826</th>\n",
       "      <td>5.563384</td>\n",
       "      <td>11.197551</td>\n",
       "      <td>-3.821002</td>\n",
       "      <td>-4.408046</td>\n",
       "      <td>5.178409</td>\n",
       "      <td>2.588082</td>\n",
       "      <td>-4.598678</td>\n",
       "      <td>3.602878</td>\n",
       "      <td>7.847899</td>\n",
       "      <td>5.524393</td>\n",
       "      <td>...</td>\n",
       "      <td>2.632777</td>\n",
       "      <td>5.726290</td>\n",
       "      <td>-1.746131</td>\n",
       "      <td>-0.964468</td>\n",
       "      <td>-1.843930</td>\n",
       "      <td>1.251239</td>\n",
       "      <td>4.443037</td>\n",
       "      <td>0.498741</td>\n",
       "      <td>6.651731</td>\n",
       "      <td>5.521437</td>\n",
       "    </tr>\n",
       "    <tr>\n",
       "      <th>687983</th>\n",
       "      <td>5.045389</td>\n",
       "      <td>10.939430</td>\n",
       "      <td>-6.302554</td>\n",
       "      <td>-5.901524</td>\n",
       "      <td>3.440855</td>\n",
       "      <td>0.884265</td>\n",
       "      <td>-6.762185</td>\n",
       "      <td>1.908613</td>\n",
       "      <td>6.819450</td>\n",
       "      <td>4.123607</td>\n",
       "      <td>...</td>\n",
       "      <td>2.186832</td>\n",
       "      <td>4.656423</td>\n",
       "      <td>-1.955774</td>\n",
       "      <td>-0.702130</td>\n",
       "      <td>-2.183857</td>\n",
       "      <td>0.758536</td>\n",
       "      <td>3.641444</td>\n",
       "      <td>0.029947</td>\n",
       "      <td>6.192258</td>\n",
       "      <td>5.570770</td>\n",
       "    </tr>\n",
       "    <tr>\n",
       "      <th>910927</th>\n",
       "      <td>-0.413329</td>\n",
       "      <td>10.462546</td>\n",
       "      <td>-7.883025</td>\n",
       "      <td>-7.209464</td>\n",
       "      <td>2.361014</td>\n",
       "      <td>-2.115585</td>\n",
       "      <td>-10.309696</td>\n",
       "      <td>2.329492</td>\n",
       "      <td>6.290312</td>\n",
       "      <td>0.749764</td>\n",
       "      <td>...</td>\n",
       "      <td>0.490583</td>\n",
       "      <td>1.953213</td>\n",
       "      <td>-2.916568</td>\n",
       "      <td>-1.417753</td>\n",
       "      <td>-3.718091</td>\n",
       "      <td>0.479225</td>\n",
       "      <td>1.267404</td>\n",
       "      <td>-1.395101</td>\n",
       "      <td>3.240233</td>\n",
       "      <td>1.712555</td>\n",
       "    </tr>\n",
       "    <tr>\n",
       "      <th>1240138</th>\n",
       "      <td>5.287357</td>\n",
       "      <td>12.024466</td>\n",
       "      <td>-4.435457</td>\n",
       "      <td>-3.625705</td>\n",
       "      <td>4.940827</td>\n",
       "      <td>1.635318</td>\n",
       "      <td>-4.192371</td>\n",
       "      <td>5.267210</td>\n",
       "      <td>8.282641</td>\n",
       "      <td>5.139955</td>\n",
       "      <td>...</td>\n",
       "      <td>3.425822</td>\n",
       "      <td>6.886184</td>\n",
       "      <td>0.510051</td>\n",
       "      <td>0.777601</td>\n",
       "      <td>0.455071</td>\n",
       "      <td>2.773001</td>\n",
       "      <td>4.848870</td>\n",
       "      <td>1.207380</td>\n",
       "      <td>6.788547</td>\n",
       "      <td>5.130849</td>\n",
       "    </tr>\n",
       "    <tr>\n",
       "      <th>1240139</th>\n",
       "      <td>4.352276</td>\n",
       "      <td>11.062858</td>\n",
       "      <td>-6.013392</td>\n",
       "      <td>-5.628539</td>\n",
       "      <td>3.747667</td>\n",
       "      <td>-0.025814</td>\n",
       "      <td>-6.809785</td>\n",
       "      <td>3.366330</td>\n",
       "      <td>7.368008</td>\n",
       "      <td>4.506888</td>\n",
       "      <td>...</td>\n",
       "      <td>2.448541</td>\n",
       "      <td>5.120632</td>\n",
       "      <td>-1.329515</td>\n",
       "      <td>-0.543658</td>\n",
       "      <td>-1.923090</td>\n",
       "      <td>1.577360</td>\n",
       "      <td>3.777439</td>\n",
       "      <td>0.193670</td>\n",
       "      <td>5.759233</td>\n",
       "      <td>4.669670</td>\n",
       "    </tr>\n",
       "  </tbody>\n",
       "</table>\n",
       "<p>5 rows × 226 columns</p>\n",
       "</div>"
      ],
      "text/plain": [
       "Drug ID         1       1001      1003      1004      1005      1006  \\\n",
       "906826   5.563384  11.197551 -3.821002 -4.408046  5.178409  2.588082   \n",
       "687983   5.045389  10.939430 -6.302554 -5.901524  3.440855  0.884265   \n",
       "910927  -0.413329  10.462546 -7.883025 -7.209464  2.361014 -2.115585   \n",
       "1240138  5.287357  12.024466 -4.435457 -3.625705  4.940827  1.635318   \n",
       "1240139  4.352276  11.062858 -6.013392 -5.628539  3.747667 -0.025814   \n",
       "\n",
       "Drug ID       1007      1008      1009      1010  ...        64        71  \\\n",
       "906826   -4.598678  3.602878  7.847899  5.524393  ...  2.632777  5.726290   \n",
       "687983   -6.762185  1.908613  6.819450  4.123607  ...  2.186832  4.656423   \n",
       "910927  -10.309696  2.329492  6.290312  0.749764  ...  0.490583  1.953213   \n",
       "1240138  -4.192371  5.267210  8.282641  5.139955  ...  3.425822  6.886184   \n",
       "1240139  -6.809785  3.366330  7.368008  4.506888  ...  2.448541  5.120632   \n",
       "\n",
       "Drug ID        83        86        87        88        89         9        91  \\\n",
       "906826  -1.746131 -0.964468 -1.843930  1.251239  4.443037  0.498741  6.651731   \n",
       "687983  -1.955774 -0.702130 -2.183857  0.758536  3.641444  0.029947  6.192258   \n",
       "910927  -2.916568 -1.417753 -3.718091  0.479225  1.267404 -1.395101  3.240233   \n",
       "1240138  0.510051  0.777601  0.455071  2.773001  4.848870  1.207380  6.788547   \n",
       "1240139 -1.329515 -0.543658 -1.923090  1.577360  3.777439  0.193670  5.759233   \n",
       "\n",
       "Drug ID        94  \n",
       "906826   5.521437  \n",
       "687983   5.570770  \n",
       "910927   1.712555  \n",
       "1240138  5.130849  \n",
       "1240139  4.669670  \n",
       "\n",
       "[5 rows x 226 columns]"
      ]
     },
     "execution_count": 66,
     "metadata": {},
     "output_type": "execute_result"
    }
   ],
   "source": [
    "print(pred_df.shape)\n",
    "pred_df.head()"
   ]
  },
  {
   "cell_type": "code",
   "execution_count": 65,
   "metadata": {
    "ExecuteTime": {
     "start_time": "2020-12-04T02:37:40.979Z"
    }
   },
   "outputs": [
    {
     "name": "stdout",
     "output_type": "stream",
     "text": [
      "(1018, 10)\n"
     ]
    },
    {
     "data": {
      "text/html": [
       "<div>\n",
       "<style scoped>\n",
       "    .dataframe tbody tr th:only-of-type {\n",
       "        vertical-align: middle;\n",
       "    }\n",
       "\n",
       "    .dataframe tbody tr th {\n",
       "        vertical-align: top;\n",
       "    }\n",
       "\n",
       "    .dataframe thead th {\n",
       "        text-align: right;\n",
       "    }\n",
       "</style>\n",
       "<table border=\"1\" class=\"dataframe\">\n",
       "  <thead>\n",
       "    <tr style=\"text-align: right;\">\n",
       "      <th></th>\n",
       "      <th>1</th>\n",
       "      <th>2</th>\n",
       "      <th>3</th>\n",
       "      <th>4</th>\n",
       "      <th>5</th>\n",
       "      <th>6</th>\n",
       "      <th>7</th>\n",
       "      <th>8</th>\n",
       "      <th>9</th>\n",
       "      <th>10</th>\n",
       "    </tr>\n",
       "  </thead>\n",
       "  <tbody>\n",
       "    <tr>\n",
       "      <th>906826</th>\n",
       "      <td>-0.804565</td>\n",
       "      <td>-0.914433</td>\n",
       "      <td>-0.181211</td>\n",
       "      <td>-0.473878</td>\n",
       "      <td>-0.124136</td>\n",
       "      <td>0.065443</td>\n",
       "      <td>-0.482438</td>\n",
       "      <td>0.826997</td>\n",
       "      <td>-0.572300</td>\n",
       "      <td>1.318430</td>\n",
       "    </tr>\n",
       "    <tr>\n",
       "      <th>687983</th>\n",
       "      <td>-0.332619</td>\n",
       "      <td>-0.304389</td>\n",
       "      <td>0.232101</td>\n",
       "      <td>0.426264</td>\n",
       "      <td>0.790567</td>\n",
       "      <td>-0.016804</td>\n",
       "      <td>-0.776426</td>\n",
       "      <td>0.778803</td>\n",
       "      <td>-1.276974</td>\n",
       "      <td>0.074862</td>\n",
       "    </tr>\n",
       "    <tr>\n",
       "      <th>910927</th>\n",
       "      <td>1.027017</td>\n",
       "      <td>-1.138005</td>\n",
       "      <td>1.851276</td>\n",
       "      <td>0.170602</td>\n",
       "      <td>-1.199878</td>\n",
       "      <td>1.805714</td>\n",
       "      <td>-1.479265</td>\n",
       "      <td>0.320495</td>\n",
       "      <td>0.125314</td>\n",
       "      <td>-2.607392</td>\n",
       "    </tr>\n",
       "    <tr>\n",
       "      <th>1240138</th>\n",
       "      <td>-0.314672</td>\n",
       "      <td>0.902809</td>\n",
       "      <td>0.961897</td>\n",
       "      <td>-0.764521</td>\n",
       "      <td>0.457254</td>\n",
       "      <td>2.021789</td>\n",
       "      <td>-0.239779</td>\n",
       "      <td>1.585581</td>\n",
       "      <td>0.688210</td>\n",
       "      <td>0.324732</td>\n",
       "    </tr>\n",
       "    <tr>\n",
       "      <th>1240139</th>\n",
       "      <td>-0.604717</td>\n",
       "      <td>-0.618175</td>\n",
       "      <td>1.043440</td>\n",
       "      <td>0.241055</td>\n",
       "      <td>-0.083026</td>\n",
       "      <td>1.715673</td>\n",
       "      <td>0.288715</td>\n",
       "      <td>0.675248</td>\n",
       "      <td>-0.240856</td>\n",
       "      <td>0.007152</td>\n",
       "    </tr>\n",
       "  </tbody>\n",
       "</table>\n",
       "</div>"
      ],
      "text/plain": [
       "               1         2         3         4         5         6         7   \\\n",
       "906826  -0.804565 -0.914433 -0.181211 -0.473878 -0.124136  0.065443 -0.482438   \n",
       "687983  -0.332619 -0.304389  0.232101  0.426264  0.790567 -0.016804 -0.776426   \n",
       "910927   1.027017 -1.138005  1.851276  0.170602 -1.199878  1.805714 -1.479265   \n",
       "1240138 -0.314672  0.902809  0.961897 -0.764521  0.457254  2.021789 -0.239779   \n",
       "1240139 -0.604717 -0.618175  1.043440  0.241055 -0.083026  1.715673  0.288715   \n",
       "\n",
       "               8         9         10  \n",
       "906826   0.826997 -0.572300  1.318430  \n",
       "687983   0.778803 -1.276974  0.074862  \n",
       "910927   0.320495  0.125314 -2.607392  \n",
       "1240138  1.585581  0.688210  0.324732  \n",
       "1240139  0.675248 -0.240856  0.007152  "
      ]
     },
     "execution_count": 65,
     "metadata": {},
     "output_type": "execute_result"
    }
   ],
   "source": [
    "# P_test_df is the drugs and their latent vectors\n",
    "print(P_test_df.shape)\n",
    "P_test_df.head()"
   ]
  },
  {
   "cell_type": "code",
   "execution_count": 60,
   "metadata": {
    "ExecuteTime": {
     "start_time": "2020-12-04T02:37:40.980Z"
    }
   },
   "outputs": [
    {
     "name": "stdout",
     "output_type": "stream",
     "text": [
      "Saving ../my_models/cadrres-wo-sample-bias_test_pred.csv\n"
     ]
    }
   ],
   "source": [
    "print('Saving ' + model_dir + '{}_test_pred.csv'.format(model_spec_name))\n",
    "pred_df.to_csv(model_dir + '{}_test_pred.csv'.format(model_spec_name))"
   ]
  },
  {
   "cell_type": "markdown",
   "metadata": {},
   "source": [
    "---\n",
    "\n",
    "**Authors:** [Chayaporn Suphavilai](mailto:@.com), [Rafael Peres da Silva](), Genome Institute of Singapore, Nagarajan Lab, November, 2020\n",
    "\n",
    "---"
   ]
  },
  {
   "cell_type": "markdown",
   "metadata": {},
   "source": [
    "Reproducibility tips from https://github.com/jupyter-guide/ten-rules-jupyter"
   ]
  },
  {
   "cell_type": "markdown",
   "metadata": {},
   "source": [
    "# Evaluation\n",
    "Using Spearman correlation and NDCG to evaluate performance"
   ]
  },
  {
   "cell_type": "code",
   "execution_count": 142,
   "metadata": {},
   "outputs": [
    {
     "name": "stdout",
     "output_type": "stream",
     "text": [
      "Average of sample spearman correlation: 0.3898356091895378\n",
      "Average of drug spearman correlation: nan\n",
      "Average of samples NDCG value: 0.6589016486801139\n"
     ]
    }
   ],
   "source": [
    "cell_line_obs_df = pd.read_csv('../data/GDSC/gdsc_all_abs_ic50_bayesian_sigmoid_only9dosages.csv', index_col=0)\n",
    "cell_line_sample_list = cell_line_obs_df.index.astype(str)\n",
    "cell_line_sample_list = np.array([s for s in cell_line_sample_list if s in gene_exp_df.columns])\n",
    "# convert indices to string for consistency in filtering\n",
    "cell_line_sample_list = cell_line_sample_list.astype(str)\n",
    "cell_line_obs_df.index = cell_line_obs_df.index.astype(str)\n",
    "\n",
    "cell_line_obs_df = cell_line_obs_df.loc[cell_line_sample_list, cadrres_model['drug_list']]\n",
    "\n",
    "pred_df = pred_df.loc[cell_line_sample_list, cadrres_model['drug_list']]\n",
    "\n",
    "per_sample_df, per_drug_df = evaluation.calculate_spearman(cell_line_obs_df, pred_df, cell_line_sample_list, cadrres_model['drug_list'])\n",
    "print(f\"Average of sample spearman correlation: {np.nanmean(per_sample_df.values)}\")\n",
    "print(f\"Average of drug spearman correlation: {np.nanmean(per_drug_df.values)}\")\n",
    "\n",
    "ndcg = evaluation.calculate_ndcg(cell_line_obs_df, pred_df)\n",
    "print(f\"Average of samples NDCG value: {np.nanmean(ndcg.values)}\")"
   ]
  }
 ],
 "metadata": {
  "kernelspec": {
   "display_name": "cadrres_sc",
   "language": "python",
   "name": "python3"
  },
  "language_info": {
   "codemirror_mode": {
    "name": "ipython",
    "version": 3
   },
   "file_extension": ".py",
   "mimetype": "text/x-python",
   "name": "python",
   "nbconvert_exporter": "python",
   "pygments_lexer": "ipython3",
   "version": "3.10.8"
  },
  "toc": {
   "base_numbering": 1,
   "nav_menu": {},
   "number_sections": false,
   "sideBar": true,
   "skip_h1_title": false,
   "title_cell": "Table of Contents",
   "title_sidebar": "Contents",
   "toc_cell": false,
   "toc_position": {},
   "toc_section_display": true,
   "toc_window_display": false
  }
 },
 "nbformat": 4,
 "nbformat_minor": 2
}
