{
 "cells": [
  {
   "cell_type": "markdown",
   "metadata": {},
   "source": [
    "# Prediction based on CaDRReS-Sc pre-trained model\n",
    "This notebook show an example of how load a pre-trained CaDRReS-SC model and predict drug response based on new data."
   ]
  },
  {
   "cell_type": "code",
   "execution_count": 1,
   "metadata": {
    "ExecuteTime": {
     "end_time": "2020-12-04T02:37:42.695742Z",
     "start_time": "2020-12-04T02:37:41.056123Z"
    }
   },
   "outputs": [
    {
     "data": {
      "text/plain": [
       "<module 'cadrres_sc.evaluation' from 'c:\\\\Users\\\\carey\\\\Desktop\\\\CaDRReS-Sc\\\\cadrres_sc\\\\evaluation.py'>"
      ]
     },
     "execution_count": 1,
     "metadata": {},
     "output_type": "execute_result"
    }
   ],
   "source": [
    "import sys, os, pickle\n",
    "from collections import Counter\n",
    "import importlib\n",
    "from ipywidgets import widgets\n",
    "import warnings\n",
    "warnings.filterwarnings('ignore')\n",
    "import pandas as pd\n",
    "import numpy as np\n",
    "\n",
    "scriptpath = '..'\n",
    "sys.path.append(os.path.abspath(scriptpath))\n",
    "\n",
    "from cadrres_sc import pp, model, evaluation, utility\n",
    "importlib.reload(model)\n",
    "importlib.reload(evaluation)"
   ]
  },
  {
   "cell_type": "markdown",
   "metadata": {},
   "source": [
    "# Read pre-trained model"
   ]
  },
  {
   "cell_type": "code",
   "execution_count": 2,
   "metadata": {
    "ExecuteTime": {
     "end_time": "2020-12-04T02:37:42.699136Z",
     "start_time": "2020-12-04T02:37:42.697188Z"
    }
   },
   "outputs": [],
   "source": [
    "model_dir = '../my_models/'"
   ]
  },
  {
   "cell_type": "code",
   "execution_count": 3,
   "metadata": {
    "ExecuteTime": {
     "end_time": "2020-12-04T02:37:42.708045Z",
     "start_time": "2020-12-04T02:37:42.700518Z"
    }
   },
   "outputs": [],
   "source": [
    "obj_function = widgets.Dropdown(options=['cadrres-wo-sample-bias', 'cadrres-wo-sample-bias-weight'], description='Objetice function')"
   ]
  },
  {
   "cell_type": "code",
   "execution_count": 4,
   "metadata": {
    "ExecuteTime": {
     "end_time": "2020-12-04T02:37:42.713078Z",
     "start_time": "2020-12-04T02:37:42.709492Z"
    }
   },
   "outputs": [
    {
     "data": {
      "application/vnd.jupyter.widget-view+json": {
       "model_id": "058eb0826679422287abe4ef7c621e09",
       "version_major": 2,
       "version_minor": 0
      },
      "text/plain": [
       "Dropdown(description='Objetice function', options=('cadrres-wo-sample-bias', 'cadrres-wo-sample-bias-weight'),…"
      ]
     },
     "metadata": {},
     "output_type": "display_data"
    }
   ],
   "source": [
    "#choose which model you have trained previously\n",
    "display(obj_function)"
   ]
  },
  {
   "cell_type": "markdown",
   "metadata": {},
   "source": [
    "## Load the pre-trained model based on your selection\n"
   ]
  },
  {
   "cell_type": "code",
   "execution_count": 5,
   "metadata": {
    "ExecuteTime": {
     "end_time": "2020-12-04T02:37:42.717566Z",
     "start_time": "2020-12-04T02:37:42.714275Z"
    }
   },
   "outputs": [],
   "source": [
    "model_spec_name = obj_function.value\n",
    "model_file = model_dir + '{}_param_dict.pickle'.format(model_spec_name)\n",
    "\n",
    "cadrres_model = model.load_model(model_file)"
   ]
  },
  {
   "cell_type": "markdown",
   "metadata": {},
   "source": [
    "# Read test data\n",
    "Again, for this example we load GDSC dataset.\n",
    "@TODO: GDSC dataset using only essential gene list?\n",
    "\n",
    "Note: GDSC_exp.tsv can be downloaded from https://www.dropbox.com/s/3v576mspw5yewbm/GDSC_exp.tsv?dl=0\n",
    "\n",
    "## Notes for other test data\n",
    "\n",
    "You can apply the model to other gene expression dataset. The input gene expression matrix should have been normalized, i.e. **for each sample, expression values are comparable across genes**. \n",
    "\n",
    "In this example the gene expression matrix provided by GDSC is already normalized using RMA.\n",
    "\n",
    "For RNA-seq data, read count should be normalized by gene length, using normalization methods such as TPM."
   ]
  },
  {
   "cell_type": "code",
   "execution_count": 6,
   "metadata": {
    "ExecuteTime": {
     "end_time": "2020-12-04T02:37:45.949356Z",
     "start_time": "2020-12-04T02:37:42.718689Z"
    }
   },
   "outputs": [
    {
     "name": "stdout",
     "output_type": "stream",
     "text": [
      "Dataframe shape: (17419, 1018) \n",
      "\n"
     ]
    },
    {
     "data": {
      "text/html": [
       "<div>\n",
       "<style scoped>\n",
       "    .dataframe tbody tr th:only-of-type {\n",
       "        vertical-align: middle;\n",
       "    }\n",
       "\n",
       "    .dataframe tbody tr th {\n",
       "        vertical-align: top;\n",
       "    }\n",
       "\n",
       "    .dataframe thead th {\n",
       "        text-align: right;\n",
       "    }\n",
       "</style>\n",
       "<table border=\"1\" class=\"dataframe\">\n",
       "  <thead>\n",
       "    <tr style=\"text-align: right;\">\n",
       "      <th></th>\n",
       "      <th>906826</th>\n",
       "      <th>687983</th>\n",
       "      <th>910927</th>\n",
       "      <th>1240138</th>\n",
       "      <th>1240139</th>\n",
       "      <th>906792</th>\n",
       "      <th>910688</th>\n",
       "      <th>1240135</th>\n",
       "      <th>1290812</th>\n",
       "      <th>907045</th>\n",
       "      <th>...</th>\n",
       "      <th>753584</th>\n",
       "      <th>907044</th>\n",
       "      <th>998184</th>\n",
       "      <th>908145</th>\n",
       "      <th>1659787</th>\n",
       "      <th>1298157</th>\n",
       "      <th>1480372</th>\n",
       "      <th>1298533</th>\n",
       "      <th>930299</th>\n",
       "      <th>905954.1</th>\n",
       "    </tr>\n",
       "    <tr>\n",
       "      <th>GENE</th>\n",
       "      <th></th>\n",
       "      <th></th>\n",
       "      <th></th>\n",
       "      <th></th>\n",
       "      <th></th>\n",
       "      <th></th>\n",
       "      <th></th>\n",
       "      <th></th>\n",
       "      <th></th>\n",
       "      <th></th>\n",
       "      <th></th>\n",
       "      <th></th>\n",
       "      <th></th>\n",
       "      <th></th>\n",
       "      <th></th>\n",
       "      <th></th>\n",
       "      <th></th>\n",
       "      <th></th>\n",
       "      <th></th>\n",
       "      <th></th>\n",
       "      <th></th>\n",
       "    </tr>\n",
       "  </thead>\n",
       "  <tbody>\n",
       "    <tr>\n",
       "      <th>A1BG</th>\n",
       "      <td>6.208447</td>\n",
       "      <td>5.025810</td>\n",
       "      <td>5.506955</td>\n",
       "      <td>4.208349</td>\n",
       "      <td>3.399366</td>\n",
       "      <td>4.917872</td>\n",
       "      <td>3.828088</td>\n",
       "      <td>5.146903</td>\n",
       "      <td>3.107543</td>\n",
       "      <td>5.062066</td>\n",
       "      <td>...</td>\n",
       "      <td>4.272172</td>\n",
       "      <td>3.435025</td>\n",
       "      <td>4.930052</td>\n",
       "      <td>2.900213</td>\n",
       "      <td>4.523712</td>\n",
       "      <td>5.074951</td>\n",
       "      <td>2.957153</td>\n",
       "      <td>3.089628</td>\n",
       "      <td>4.047364</td>\n",
       "      <td>5.329524</td>\n",
       "    </tr>\n",
       "    <tr>\n",
       "      <th>A1CF</th>\n",
       "      <td>2.981775</td>\n",
       "      <td>2.947547</td>\n",
       "      <td>2.872071</td>\n",
       "      <td>3.075478</td>\n",
       "      <td>2.853231</td>\n",
       "      <td>3.221491</td>\n",
       "      <td>2.996355</td>\n",
       "      <td>2.893977</td>\n",
       "      <td>2.755668</td>\n",
       "      <td>2.985650</td>\n",
       "      <td>...</td>\n",
       "      <td>2.941659</td>\n",
       "      <td>3.155536</td>\n",
       "      <td>2.983619</td>\n",
       "      <td>3.118312</td>\n",
       "      <td>2.975409</td>\n",
       "      <td>2.905804</td>\n",
       "      <td>2.944488</td>\n",
       "      <td>2.780003</td>\n",
       "      <td>2.870819</td>\n",
       "      <td>2.926353</td>\n",
       "    </tr>\n",
       "  </tbody>\n",
       "</table>\n",
       "<p>2 rows × 1018 columns</p>\n",
       "</div>"
      ],
      "text/plain": [
       "        906826    687983    910927   1240138   1240139    906792    910688  \\\n",
       "GENE                                                                         \n",
       "A1BG  6.208447  5.025810  5.506955  4.208349  3.399366  4.917872  3.828088   \n",
       "A1CF  2.981775  2.947547  2.872071  3.075478  2.853231  3.221491  2.996355   \n",
       "\n",
       "       1240135   1290812    907045  ...    753584    907044    998184  \\\n",
       "GENE                                ...                                 \n",
       "A1BG  5.146903  3.107543  5.062066  ...  4.272172  3.435025  4.930052   \n",
       "A1CF  2.893977  2.755668  2.985650  ...  2.941659  3.155536  2.983619   \n",
       "\n",
       "        908145   1659787   1298157   1480372   1298533    930299  905954.1  \n",
       "GENE                                                                        \n",
       "A1BG  2.900213  4.523712  5.074951  2.957153  3.089628  4.047364  5.329524  \n",
       "A1CF  3.118312  2.975409  2.905804  2.944488  2.780003  2.870819  2.926353  \n",
       "\n",
       "[2 rows x 1018 columns]"
      ]
     },
     "execution_count": 6,
     "metadata": {},
     "output_type": "execute_result"
    }
   ],
   "source": [
    "gene_exp_df = pd.read_csv('../data/GDSC/GDSC_exp.tsv', sep='\\t', index_col=0)\n",
    "gene_exp_df = gene_exp_df.groupby(gene_exp_df.index).mean()\n",
    "print(\"Dataframe shape:\", gene_exp_df.shape, \"\\n\")\n",
    "gene_exp_df.head(2)"
   ]
  },
  {
   "cell_type": "markdown",
   "metadata": {},
   "source": [
    "## Calculate fold-change\n",
    "We normalized baseline gene expression values for each gene by computing fold-changes compared to the median value across cell-lines"
   ]
  },
  {
   "cell_type": "code",
   "execution_count": 7,
   "metadata": {
    "ExecuteTime": {
     "end_time": "2020-12-04T02:37:49.916450Z",
     "start_time": "2020-12-04T02:37:45.950650Z"
    }
   },
   "outputs": [],
   "source": [
    "cell_line_log2_mean_fc_exp_df, cell_line_mean_exp_df = pp.gexp.normalize_log2_mean_fc(gene_exp_df)"
   ]
  },
  {
   "cell_type": "markdown",
   "metadata": {},
   "source": [
    "## Read essential genes list\n",
    "\n",
    "Or in case you want your training using one specific set of genes."
   ]
  },
  {
   "cell_type": "code",
   "execution_count": 8,
   "metadata": {
    "ExecuteTime": {
     "end_time": "2020-12-04T02:37:49.922448Z",
     "start_time": "2020-12-04T02:37:49.918253Z"
    }
   },
   "outputs": [],
   "source": [
    "ess_gene_list = utility.get_gene_list('../data/essential_genes.txt')"
   ]
  },
  {
   "cell_type": "markdown",
   "metadata": {},
   "source": [
    "## Calculate kernel feature \n",
    "\n",
    "Based on all given cell line samples with gene expression profiles and a list of genes (e.g. essential gene list). This step might take a bit more time than usual."
   ]
  },
  {
   "cell_type": "code",
   "execution_count": 9,
   "metadata": {
    "ExecuteTime": {
     "start_time": "2020-12-04T02:37:40.976Z"
    }
   },
   "outputs": [
    {
     "name": "stdout",
     "output_type": "stream",
     "text": [
      "Calculating kernel features based on 1610 common genes\n",
      "(17419, 1018) (17419, 1018)\n",
      "100 of 1018 (78.83)s\n",
      "200 of 1018 (84.83)s\n",
      "300 of 1018 (84.38)s\n",
      "400 of 1018 (83.44)s\n",
      "500 of 1018 (82.86)s\n",
      "600 of 1018 (81.79)s\n",
      "700 of 1018 (84.61)s\n",
      "800 of 1018 (82.88)s\n",
      "900 of 1018 (82.35)s\n",
      "1000 of 1018 (89.66)s\n"
     ]
    }
   ],
   "source": [
    "test_kernel_df = pp.gexp.calculate_kernel_feature(cell_line_log2_mean_fc_exp_df, cell_line_log2_mean_fc_exp_df, ess_gene_list)"
   ]
  },
  {
   "cell_type": "code",
   "execution_count": 10,
   "metadata": {
    "ExecuteTime": {
     "start_time": "2020-12-04T02:37:40.976Z"
    }
   },
   "outputs": [
    {
     "name": "stdout",
     "output_type": "stream",
     "text": [
      "Dataframe shape: (1018, 1018) \n",
      "\n"
     ]
    },
    {
     "data": {
      "text/html": [
       "<div>\n",
       "<style scoped>\n",
       "    .dataframe tbody tr th:only-of-type {\n",
       "        vertical-align: middle;\n",
       "    }\n",
       "\n",
       "    .dataframe tbody tr th {\n",
       "        vertical-align: top;\n",
       "    }\n",
       "\n",
       "    .dataframe thead th {\n",
       "        text-align: right;\n",
       "    }\n",
       "</style>\n",
       "<table border=\"1\" class=\"dataframe\">\n",
       "  <thead>\n",
       "    <tr style=\"text-align: right;\">\n",
       "      <th></th>\n",
       "      <th>906826</th>\n",
       "      <th>687983</th>\n",
       "      <th>910927</th>\n",
       "      <th>1240138</th>\n",
       "      <th>1240139</th>\n",
       "      <th>906792</th>\n",
       "      <th>910688</th>\n",
       "      <th>1240135</th>\n",
       "      <th>1290812</th>\n",
       "      <th>907045</th>\n",
       "      <th>...</th>\n",
       "      <th>753584</th>\n",
       "      <th>907044</th>\n",
       "      <th>998184</th>\n",
       "      <th>908145</th>\n",
       "      <th>1659787</th>\n",
       "      <th>1298157</th>\n",
       "      <th>1480372</th>\n",
       "      <th>1298533</th>\n",
       "      <th>930299</th>\n",
       "      <th>905954.1</th>\n",
       "    </tr>\n",
       "  </thead>\n",
       "  <tbody>\n",
       "    <tr>\n",
       "      <th>906826</th>\n",
       "      <td>1.000000</td>\n",
       "      <td>0.054507</td>\n",
       "      <td>0.026621</td>\n",
       "      <td>0.000195</td>\n",
       "      <td>0.181043</td>\n",
       "      <td>-0.010206</td>\n",
       "      <td>-0.091207</td>\n",
       "      <td>0.255585</td>\n",
       "      <td>0.256516</td>\n",
       "      <td>-0.043044</td>\n",
       "      <td>...</td>\n",
       "      <td>0.178078</td>\n",
       "      <td>-0.033405</td>\n",
       "      <td>-0.128262</td>\n",
       "      <td>-0.020860</td>\n",
       "      <td>0.226647</td>\n",
       "      <td>0.225082</td>\n",
       "      <td>0.146886</td>\n",
       "      <td>0.041669</td>\n",
       "      <td>-0.099332</td>\n",
       "      <td>0.044356</td>\n",
       "    </tr>\n",
       "    <tr>\n",
       "      <th>687983</th>\n",
       "      <td>0.054507</td>\n",
       "      <td>1.000000</td>\n",
       "      <td>0.151500</td>\n",
       "      <td>-0.017105</td>\n",
       "      <td>0.047332</td>\n",
       "      <td>0.061474</td>\n",
       "      <td>-0.115470</td>\n",
       "      <td>0.040432</td>\n",
       "      <td>-0.113185</td>\n",
       "      <td>-0.073907</td>\n",
       "      <td>...</td>\n",
       "      <td>-0.024037</td>\n",
       "      <td>0.027242</td>\n",
       "      <td>0.121310</td>\n",
       "      <td>-0.018611</td>\n",
       "      <td>0.009571</td>\n",
       "      <td>0.044496</td>\n",
       "      <td>0.087031</td>\n",
       "      <td>-0.149296</td>\n",
       "      <td>0.118897</td>\n",
       "      <td>-0.056471</td>\n",
       "    </tr>\n",
       "  </tbody>\n",
       "</table>\n",
       "<p>2 rows × 1018 columns</p>\n",
       "</div>"
      ],
      "text/plain": [
       "          906826    687983    910927   1240138   1240139    906792    910688  \\\n",
       "906826  1.000000  0.054507  0.026621  0.000195  0.181043 -0.010206 -0.091207   \n",
       "687983  0.054507  1.000000  0.151500 -0.017105  0.047332  0.061474 -0.115470   \n",
       "\n",
       "         1240135   1290812    907045  ...    753584    907044    998184  \\\n",
       "906826  0.255585  0.256516 -0.043044  ...  0.178078 -0.033405 -0.128262   \n",
       "687983  0.040432 -0.113185 -0.073907  ... -0.024037  0.027242  0.121310   \n",
       "\n",
       "          908145   1659787   1298157   1480372   1298533    930299  905954.1  \n",
       "906826 -0.020860  0.226647  0.225082  0.146886  0.041669 -0.099332  0.044356  \n",
       "687983 -0.018611  0.009571  0.044496  0.087031 -0.149296  0.118897 -0.056471  \n",
       "\n",
       "[2 rows x 1018 columns]"
      ]
     },
     "execution_count": 10,
     "metadata": {},
     "output_type": "execute_result"
    }
   ],
   "source": [
    "print(\"Dataframe shape:\", test_kernel_df.shape, \"\\n\")\n",
    "test_kernel_df.head(2)"
   ]
  },
  {
   "cell_type": "markdown",
   "metadata": {},
   "source": [
    "# Drug response prediction"
   ]
  },
  {
   "cell_type": "code",
   "execution_count": 11,
   "metadata": {
    "ExecuteTime": {
     "start_time": "2020-12-04T02:37:40.977Z"
    }
   },
   "outputs": [
    {
     "name": "stdout",
     "output_type": "stream",
     "text": [
      "Predicting drug response using CaDRReS: cadrres-wo-sample-bias\n",
      "done!\n"
     ]
    }
   ],
   "source": [
    "print('Predicting drug response using CaDRReS: {}'.format(model_spec_name))\n",
    "pred_df, P_test_df= model.predict_from_model(cadrres_model, test_kernel_df, model_spec_name)\n",
    "print('done!')"
   ]
  },
  {
   "cell_type": "markdown",
   "metadata": {},
   "source": [
    "Inspecting the model predictions and save the predictions"
   ]
  },
  {
   "cell_type": "code",
   "execution_count": 12,
   "metadata": {
    "ExecuteTime": {
     "start_time": "2020-12-04T02:37:40.978Z"
    }
   },
   "outputs": [
    {
     "name": "stdout",
     "output_type": "stream",
     "text": [
      "(1018, 226)\n"
     ]
    },
    {
     "data": {
      "text/html": [
       "<div>\n",
       "<style scoped>\n",
       "    .dataframe tbody tr th:only-of-type {\n",
       "        vertical-align: middle;\n",
       "    }\n",
       "\n",
       "    .dataframe tbody tr th {\n",
       "        vertical-align: top;\n",
       "    }\n",
       "\n",
       "    .dataframe thead th {\n",
       "        text-align: right;\n",
       "    }\n",
       "</style>\n",
       "<table border=\"1\" class=\"dataframe\">\n",
       "  <thead>\n",
       "    <tr style=\"text-align: right;\">\n",
       "      <th>Drug ID</th>\n",
       "      <th>1</th>\n",
       "      <th>1001</th>\n",
       "      <th>1003</th>\n",
       "      <th>1004</th>\n",
       "      <th>1005</th>\n",
       "      <th>1006</th>\n",
       "      <th>1007</th>\n",
       "      <th>1008</th>\n",
       "      <th>1009</th>\n",
       "      <th>1010</th>\n",
       "      <th>...</th>\n",
       "      <th>64</th>\n",
       "      <th>71</th>\n",
       "      <th>83</th>\n",
       "      <th>86</th>\n",
       "      <th>87</th>\n",
       "      <th>88</th>\n",
       "      <th>89</th>\n",
       "      <th>9</th>\n",
       "      <th>91</th>\n",
       "      <th>94</th>\n",
       "    </tr>\n",
       "  </thead>\n",
       "  <tbody>\n",
       "    <tr>\n",
       "      <th>906826</th>\n",
       "      <td>3.598188</td>\n",
       "      <td>10.837875</td>\n",
       "      <td>-5.694187</td>\n",
       "      <td>-5.174909</td>\n",
       "      <td>4.153878</td>\n",
       "      <td>0.592987</td>\n",
       "      <td>-6.464035</td>\n",
       "      <td>4.468215</td>\n",
       "      <td>8.026369</td>\n",
       "      <td>5.213609</td>\n",
       "      <td>...</td>\n",
       "      <td>0.804889</td>\n",
       "      <td>3.696694</td>\n",
       "      <td>-2.686636</td>\n",
       "      <td>-1.332790</td>\n",
       "      <td>-2.853160</td>\n",
       "      <td>0.616740</td>\n",
       "      <td>2.130489</td>\n",
       "      <td>-0.962104</td>\n",
       "      <td>4.653080</td>\n",
       "      <td>2.927343</td>\n",
       "    </tr>\n",
       "    <tr>\n",
       "      <th>687983</th>\n",
       "      <td>6.998276</td>\n",
       "      <td>11.254932</td>\n",
       "      <td>-4.622645</td>\n",
       "      <td>-4.770331</td>\n",
       "      <td>4.374687</td>\n",
       "      <td>2.828551</td>\n",
       "      <td>-4.713568</td>\n",
       "      <td>3.099338</td>\n",
       "      <td>7.995354</td>\n",
       "      <td>6.175023</td>\n",
       "      <td>...</td>\n",
       "      <td>3.416636</td>\n",
       "      <td>6.156876</td>\n",
       "      <td>-1.376460</td>\n",
       "      <td>-0.309761</td>\n",
       "      <td>-1.344785</td>\n",
       "      <td>1.293530</td>\n",
       "      <td>5.168526</td>\n",
       "      <td>0.613289</td>\n",
       "      <td>7.704615</td>\n",
       "      <td>6.694684</td>\n",
       "    </tr>\n",
       "    <tr>\n",
       "      <th>910927</th>\n",
       "      <td>1.578585</td>\n",
       "      <td>10.599277</td>\n",
       "      <td>-7.540745</td>\n",
       "      <td>-7.549080</td>\n",
       "      <td>2.389969</td>\n",
       "      <td>-2.206786</td>\n",
       "      <td>-10.304592</td>\n",
       "      <td>1.713320</td>\n",
       "      <td>6.298277</td>\n",
       "      <td>2.117459</td>\n",
       "      <td>...</td>\n",
       "      <td>1.514638</td>\n",
       "      <td>2.597214</td>\n",
       "      <td>-2.154976</td>\n",
       "      <td>-1.219061</td>\n",
       "      <td>-3.885245</td>\n",
       "      <td>1.169545</td>\n",
       "      <td>2.313805</td>\n",
       "      <td>-0.848955</td>\n",
       "      <td>4.100259</td>\n",
       "      <td>3.549469</td>\n",
       "    </tr>\n",
       "    <tr>\n",
       "      <th>1240138</th>\n",
       "      <td>3.242970</td>\n",
       "      <td>11.115442</td>\n",
       "      <td>-4.704320</td>\n",
       "      <td>-4.986453</td>\n",
       "      <td>5.027159</td>\n",
       "      <td>1.255595</td>\n",
       "      <td>-5.958886</td>\n",
       "      <td>4.157858</td>\n",
       "      <td>7.879065</td>\n",
       "      <td>3.316346</td>\n",
       "      <td>...</td>\n",
       "      <td>2.273305</td>\n",
       "      <td>5.629552</td>\n",
       "      <td>-0.818494</td>\n",
       "      <td>-0.354655</td>\n",
       "      <td>-1.280859</td>\n",
       "      <td>1.826223</td>\n",
       "      <td>3.781634</td>\n",
       "      <td>0.368827</td>\n",
       "      <td>5.651509</td>\n",
       "      <td>3.976870</td>\n",
       "    </tr>\n",
       "    <tr>\n",
       "      <th>1240139</th>\n",
       "      <td>1.982039</td>\n",
       "      <td>10.493722</td>\n",
       "      <td>-8.400546</td>\n",
       "      <td>-6.967617</td>\n",
       "      <td>2.335411</td>\n",
       "      <td>-2.284234</td>\n",
       "      <td>-8.768306</td>\n",
       "      <td>1.281026</td>\n",
       "      <td>6.405093</td>\n",
       "      <td>3.079599</td>\n",
       "      <td>...</td>\n",
       "      <td>0.398804</td>\n",
       "      <td>2.073469</td>\n",
       "      <td>-2.509752</td>\n",
       "      <td>-1.144668</td>\n",
       "      <td>-3.551622</td>\n",
       "      <td>0.365790</td>\n",
       "      <td>1.137970</td>\n",
       "      <td>-1.088353</td>\n",
       "      <td>3.734904</td>\n",
       "      <td>3.214346</td>\n",
       "    </tr>\n",
       "  </tbody>\n",
       "</table>\n",
       "<p>5 rows × 226 columns</p>\n",
       "</div>"
      ],
      "text/plain": [
       "Drug ID         1       1001      1003      1004      1005      1006  \\\n",
       "906826   3.598188  10.837875 -5.694187 -5.174909  4.153878  0.592987   \n",
       "687983   6.998276  11.254932 -4.622645 -4.770331  4.374687  2.828551   \n",
       "910927   1.578585  10.599277 -7.540745 -7.549080  2.389969 -2.206786   \n",
       "1240138  3.242970  11.115442 -4.704320 -4.986453  5.027159  1.255595   \n",
       "1240139  1.982039  10.493722 -8.400546 -6.967617  2.335411 -2.284234   \n",
       "\n",
       "Drug ID       1007      1008      1009      1010  ...        64        71  \\\n",
       "906826   -6.464035  4.468215  8.026369  5.213609  ...  0.804889  3.696694   \n",
       "687983   -4.713568  3.099338  7.995354  6.175023  ...  3.416636  6.156876   \n",
       "910927  -10.304592  1.713320  6.298277  2.117459  ...  1.514638  2.597214   \n",
       "1240138  -5.958886  4.157858  7.879065  3.316346  ...  2.273305  5.629552   \n",
       "1240139  -8.768306  1.281026  6.405093  3.079599  ...  0.398804  2.073469   \n",
       "\n",
       "Drug ID        83        86        87        88        89         9        91  \\\n",
       "906826  -2.686636 -1.332790 -2.853160  0.616740  2.130489 -0.962104  4.653080   \n",
       "687983  -1.376460 -0.309761 -1.344785  1.293530  5.168526  0.613289  7.704615   \n",
       "910927  -2.154976 -1.219061 -3.885245  1.169545  2.313805 -0.848955  4.100259   \n",
       "1240138 -0.818494 -0.354655 -1.280859  1.826223  3.781634  0.368827  5.651509   \n",
       "1240139 -2.509752 -1.144668 -3.551622  0.365790  1.137970 -1.088353  3.734904   \n",
       "\n",
       "Drug ID        94  \n",
       "906826   2.927343  \n",
       "687983   6.694684  \n",
       "910927   3.549469  \n",
       "1240138  3.976870  \n",
       "1240139  3.214346  \n",
       "\n",
       "[5 rows x 226 columns]"
      ]
     },
     "execution_count": 12,
     "metadata": {},
     "output_type": "execute_result"
    }
   ],
   "source": [
    "print(pred_df.shape)\n",
    "pred_df.head()"
   ]
  },
  {
   "cell_type": "code",
   "execution_count": 13,
   "metadata": {
    "ExecuteTime": {
     "start_time": "2020-12-04T02:37:40.979Z"
    }
   },
   "outputs": [
    {
     "name": "stdout",
     "output_type": "stream",
     "text": [
      "(1018, 10)\n"
     ]
    },
    {
     "data": {
      "text/html": [
       "<div>\n",
       "<style scoped>\n",
       "    .dataframe tbody tr th:only-of-type {\n",
       "        vertical-align: middle;\n",
       "    }\n",
       "\n",
       "    .dataframe tbody tr th {\n",
       "        vertical-align: top;\n",
       "    }\n",
       "\n",
       "    .dataframe thead th {\n",
       "        text-align: right;\n",
       "    }\n",
       "</style>\n",
       "<table border=\"1\" class=\"dataframe\">\n",
       "  <thead>\n",
       "    <tr style=\"text-align: right;\">\n",
       "      <th></th>\n",
       "      <th>1</th>\n",
       "      <th>2</th>\n",
       "      <th>3</th>\n",
       "      <th>4</th>\n",
       "      <th>5</th>\n",
       "      <th>6</th>\n",
       "      <th>7</th>\n",
       "      <th>8</th>\n",
       "      <th>9</th>\n",
       "      <th>10</th>\n",
       "    </tr>\n",
       "  </thead>\n",
       "  <tbody>\n",
       "    <tr>\n",
       "      <th>906826</th>\n",
       "      <td>-0.838617</td>\n",
       "      <td>-2.606379</td>\n",
       "      <td>0.255473</td>\n",
       "      <td>0.200040</td>\n",
       "      <td>-0.503588</td>\n",
       "      <td>1.316628</td>\n",
       "      <td>-0.549998</td>\n",
       "      <td>0.472825</td>\n",
       "      <td>-0.919502</td>\n",
       "      <td>0.514386</td>\n",
       "    </tr>\n",
       "    <tr>\n",
       "      <th>687983</th>\n",
       "      <td>-0.236683</td>\n",
       "      <td>0.583207</td>\n",
       "      <td>0.171062</td>\n",
       "      <td>-0.118878</td>\n",
       "      <td>1.310350</td>\n",
       "      <td>0.203863</td>\n",
       "      <td>-0.562031</td>\n",
       "      <td>0.797582</td>\n",
       "      <td>-1.332473</td>\n",
       "      <td>1.680585</td>\n",
       "    </tr>\n",
       "    <tr>\n",
       "      <th>910927</th>\n",
       "      <td>0.666080</td>\n",
       "      <td>-0.738941</td>\n",
       "      <td>1.475736</td>\n",
       "      <td>0.620604</td>\n",
       "      <td>-1.432304</td>\n",
       "      <td>1.331909</td>\n",
       "      <td>0.762452</td>\n",
       "      <td>-0.550815</td>\n",
       "      <td>-0.612409</td>\n",
       "      <td>-1.398217</td>\n",
       "    </tr>\n",
       "    <tr>\n",
       "      <th>1240138</th>\n",
       "      <td>-0.464920</td>\n",
       "      <td>-0.560788</td>\n",
       "      <td>0.298326</td>\n",
       "      <td>-1.312370</td>\n",
       "      <td>-0.303701</td>\n",
       "      <td>1.449010</td>\n",
       "      <td>-0.418710</td>\n",
       "      <td>0.833223</td>\n",
       "      <td>0.618528</td>\n",
       "      <td>-0.615271</td>\n",
       "    </tr>\n",
       "    <tr>\n",
       "      <th>1240139</th>\n",
       "      <td>-0.050252</td>\n",
       "      <td>-1.949060</td>\n",
       "      <td>0.428729</td>\n",
       "      <td>1.240224</td>\n",
       "      <td>-0.976912</td>\n",
       "      <td>0.602875</td>\n",
       "      <td>0.493952</td>\n",
       "      <td>0.583569</td>\n",
       "      <td>-1.577828</td>\n",
       "      <td>-1.254461</td>\n",
       "    </tr>\n",
       "  </tbody>\n",
       "</table>\n",
       "</div>"
      ],
      "text/plain": [
       "               1         2         3         4         5         6         7   \\\n",
       "906826  -0.838617 -2.606379  0.255473  0.200040 -0.503588  1.316628 -0.549998   \n",
       "687983  -0.236683  0.583207  0.171062 -0.118878  1.310350  0.203863 -0.562031   \n",
       "910927   0.666080 -0.738941  1.475736  0.620604 -1.432304  1.331909  0.762452   \n",
       "1240138 -0.464920 -0.560788  0.298326 -1.312370 -0.303701  1.449010 -0.418710   \n",
       "1240139 -0.050252 -1.949060  0.428729  1.240224 -0.976912  0.602875  0.493952   \n",
       "\n",
       "               8         9         10  \n",
       "906826   0.472825 -0.919502  0.514386  \n",
       "687983   0.797582 -1.332473  1.680585  \n",
       "910927  -0.550815 -0.612409 -1.398217  \n",
       "1240138  0.833223  0.618528 -0.615271  \n",
       "1240139  0.583569 -1.577828 -1.254461  "
      ]
     },
     "execution_count": 13,
     "metadata": {},
     "output_type": "execute_result"
    }
   ],
   "source": [
    "# P_test_df is the drugs and their latent vectors\n",
    "print(P_test_df.shape)\n",
    "P_test_df.head()"
   ]
  },
  {
   "cell_type": "code",
   "execution_count": 14,
   "metadata": {
    "ExecuteTime": {
     "start_time": "2020-12-04T02:37:40.980Z"
    }
   },
   "outputs": [
    {
     "name": "stdout",
     "output_type": "stream",
     "text": [
      "Saving ../my_models/cadrres-wo-sample-bias_test_pred.csv\n"
     ]
    }
   ],
   "source": [
    "print('Saving ' + model_dir + '{}_test_pred.csv'.format(model_spec_name))\n",
    "pred_df.to_csv(model_dir + '{}_test_pred.csv'.format(model_spec_name))"
   ]
  },
  {
   "cell_type": "markdown",
   "metadata": {},
   "source": [
    "---\n",
    "\n",
    "**Authors:** [Chayaporn Suphavilai](mailto:@.com), [Rafael Peres da Silva](), Genome Institute of Singapore, Nagarajan Lab, November, 2020\n",
    "\n",
    "---"
   ]
  },
  {
   "cell_type": "markdown",
   "metadata": {},
   "source": [
    "Reproducibility tips from https://github.com/jupyter-guide/ten-rules-jupyter"
   ]
  },
  {
   "cell_type": "markdown",
   "metadata": {},
   "source": [
    "# Prediction Evaluation\n",
    "Using Spearman correlation and NDCG to evaluate performance"
   ]
  },
  {
   "cell_type": "code",
   "execution_count": 15,
   "metadata": {},
   "outputs": [
    {
     "name": "stdout",
     "output_type": "stream",
     "text": [
      "Average of sample spearman correlation: 0.3880890774382629\n",
      "Average of drug spearman correlation: nan\n",
      "Average of samples NDCG value: 0.6557105814908604\n"
     ]
    }
   ],
   "source": [
    "cell_line_obs_df = pd.read_csv('../data/GDSC/gdsc_all_abs_ic50_bayesian_sigmoid_only9dosages.csv', index_col=0)\n",
    "cell_line_sample_list = cell_line_obs_df.index.astype(str)\n",
    "cell_line_sample_list = np.array([s for s in cell_line_sample_list if s in gene_exp_df.columns])\n",
    "# convert indices to string for consistency in filtering\n",
    "cell_line_sample_list = cell_line_sample_list.astype(str)\n",
    "cell_line_obs_df.index = cell_line_obs_df.index.astype(str)\n",
    "\n",
    "cell_line_obs_df = cell_line_obs_df.loc[cell_line_sample_list, cadrres_model['drug_list']]\n",
    "\n",
    "pred_df = pred_df.loc[cell_line_sample_list, cadrres_model['drug_list']]\n",
    "\n",
    "per_sample_df, per_drug_df = evaluation.calculate_spearman(cell_line_obs_df, pred_df, cell_line_sample_list, cadrres_model['drug_list'])\n",
    "print(f\"Average of sample spearman correlation: {np.nanmean(per_sample_df.values)}\")\n",
    "print(f\"Average of drug spearman correlation: {np.nanmean(per_drug_df.values)}\")\n",
    "\n",
    "ndcg = evaluation.calculate_ndcg(cell_line_obs_df, pred_df)\n",
    "print(f\"Average of samples NDCG value: {np.nanmean(ndcg.values)}\")"
   ]
  },
  {
   "cell_type": "markdown",
   "metadata": {},
   "source": [
    "# Latent Vector Similarity Evaluation\n"
   ]
  },
  {
   "cell_type": "code",
   "execution_count": null,
   "metadata": {},
   "outputs": [],
   "source": [
    "dataset_drug_df = pd.read_csv('../preprocessed_data/GDSC/drug_stat.csv', index_col=0) # hn_drug_stat | drug_stat\n",
    "list(dataset_drug_df.iloc[:,6])"
   ]
  }
 ],
 "metadata": {
  "kernelspec": {
   "display_name": "cadrres_sc",
   "language": "python",
   "name": "python3"
  },
  "language_info": {
   "codemirror_mode": {
    "name": "ipython",
    "version": 3
   },
   "file_extension": ".py",
   "mimetype": "text/x-python",
   "name": "python",
   "nbconvert_exporter": "python",
   "pygments_lexer": "ipython3",
   "version": "3.10.8"
  },
  "toc": {
   "base_numbering": 1,
   "nav_menu": {},
   "number_sections": false,
   "sideBar": true,
   "skip_h1_title": false,
   "title_cell": "Table of Contents",
   "title_sidebar": "Contents",
   "toc_cell": false,
   "toc_position": {},
   "toc_section_display": true,
   "toc_window_display": false
  }
 },
 "nbformat": 4,
 "nbformat_minor": 2
}
