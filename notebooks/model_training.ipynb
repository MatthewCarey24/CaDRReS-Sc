{
 "cells": [
  {
   "cell_type": "markdown",
   "metadata": {},
   "source": [
    "# CaDRReS-Sc Training\n",
    "This notebook show an example of how to fit CaDRReS-Sc model on a training set (e.g GDSC or any pharmacogenomic experiment you might have) and save its final version to make predictions on new data. For the detail of the new objective function, please refer to our manuscript."
   ]
  },
  {
   "cell_type": "code",
   "execution_count": 93,
   "metadata": {
    "ExecuteTime": {
     "end_time": "2020-12-04T00:58:46.309415Z",
     "start_time": "2020-12-04T00:58:41.915956Z"
    }
   },
   "outputs": [
    {
     "data": {
      "text/plain": [
       "<module 'cadrres_sc.model' from 'c:\\\\Users\\\\carey\\\\Desktop\\\\CaDRReS-Sc\\\\cadrres_sc\\\\model.py'>"
      ]
     },
     "execution_count": 93,
     "metadata": {},
     "output_type": "execute_result"
    }
   ],
   "source": [
    "import sys, os, pickle\n",
    "import pandas as pd\n",
    "import numpy as np\n",
    "np.set_printoptions(precision=2)\n",
    "from collections import Counter\n",
    "\n",
    "import importlib\n",
    "from ipywidgets import widgets\n",
    "import warnings\n",
    "warnings.filterwarnings('ignore')\n",
    "\n",
    "scriptpath = '..'\n",
    "sys.path.append(os.path.abspath(scriptpath))\n",
    "\n",
    "from cadrres_sc import pp, model, evaluation, utility\n",
    "importlib.reload(model)"
   ]
  },
  {
   "cell_type": "markdown",
   "metadata": {},
   "source": [
    "# Read data\n",
    "In this step we expect a dataset holding gene expression and screened drug responses. In the following example, we load this information from the GDSC dataset.  "
   ]
  },
  {
   "cell_type": "markdown",
   "metadata": {},
   "source": [
    "## Read cell line info\n",
    "\n",
    "- Cell line tissue info\n",
    "- Observed drug response IC50 to be used as ground truth"
   ]
  },
  {
   "cell_type": "code",
   "execution_count": 119,
   "metadata": {
    "ExecuteTime": {
     "end_time": "2020-12-04T00:58:46.466396Z",
     "start_time": "2020-12-04T00:58:46.310869Z"
    }
   },
   "outputs": [
    {
     "data": {
      "text/plain": [
       "1074"
      ]
     },
     "execution_count": 119,
     "metadata": {},
     "output_type": "execute_result"
    }
   ],
   "source": [
    "tissue_sample_df = pd.read_csv('../data/GDSC/GDSC_tissue_info.csv', index_col=0)\n",
    "tissue_sample_df.index = tissue_sample_df.index.astype(str)\n",
    "\n",
    "cell_line_obs_df = pd.read_csv('../data/GDSC/gdsc_all_abs_ic50_bayesian_sigmoid_only9dosages.csv', index_col=0)\n",
    "cell_line_obs_df.index = cell_line_obs_df.index.astype(str)\n",
    "\n",
    "# cell lines list which your model will be trained on\n",
    "cell_line_sample_list = cell_line_obs_df.index.astype(str)\n",
    "len(cell_line_sample_list)"
   ]
  },
  {
   "cell_type": "markdown",
   "metadata": {},
   "source": [
    "In case you want sample weight based on cancer type. In our example we picked head and neck cell lines."
   ]
  },
  {
   "cell_type": "code",
   "execution_count": 121,
   "metadata": {
    "ExecuteTime": {
     "end_time": "2020-12-04T00:58:46.472574Z",
     "start_time": "2020-12-04T00:58:46.467962Z"
    }
   },
   "outputs": [
    {
     "data": {
      "text/plain": [
       "42"
      ]
     },
     "execution_count": 121,
     "metadata": {},
     "output_type": "execute_result"
    }
   ],
   "source": [
    "cell_line_hn_sample_list = tissue_sample_df[tissue_sample_df['TCGA_CLASS']=='HNSC'].index\n",
    "cell_line_hn_obs_df = cell_line_obs_df.loc[cell_line_hn_sample_list]\n",
    "len(cell_line_hn_sample_list)"
   ]
  },
  {
   "cell_type": "markdown",
   "metadata": {},
   "source": [
    "## Read drug info\n",
    "\n",
    "In this example, we focus on 81 drugs that sensitive in head and neck cell lines."
   ]
  },
  {
   "cell_type": "code",
   "execution_count": 96,
   "metadata": {
    "ExecuteTime": {
     "end_time": "2020-12-04T00:58:46.516448Z",
     "start_time": "2020-12-04T00:58:46.473827Z"
    }
   },
   "outputs": [
    {
     "name": "stdout",
     "output_type": "stream",
     "text": [
      "Dataframe shape: (226, 27) \n",
      "\n"
     ]
    },
    {
     "data": {
      "text/html": [
       "<div>\n",
       "<style scoped>\n",
       "    .dataframe tbody tr th:only-of-type {\n",
       "        vertical-align: middle;\n",
       "    }\n",
       "\n",
       "    .dataframe tbody tr th {\n",
       "        vertical-align: top;\n",
       "    }\n",
       "\n",
       "    .dataframe thead th {\n",
       "        text-align: right;\n",
       "    }\n",
       "</style>\n",
       "<table border=\"1\" class=\"dataframe\">\n",
       "  <thead>\n",
       "    <tr style=\"text-align: right;\">\n",
       "      <th></th>\n",
       "      <th>Drug Name</th>\n",
       "      <th>Synonyms</th>\n",
       "      <th>Target</th>\n",
       "      <th>Target Pathway</th>\n",
       "      <th>Selleckchem Cat#</th>\n",
       "      <th>CAS number</th>\n",
       "      <th>PubCHEM</th>\n",
       "      <th>Others</th>\n",
       "      <th>entropy</th>\n",
       "      <th>max_conc</th>\n",
       "      <th>...</th>\n",
       "      <th>median_ic50_9f</th>\n",
       "      <th>log2_median_ic50_9f</th>\n",
       "      <th>log2_median_ic50_hn</th>\n",
       "      <th>median_ic50_hn</th>\n",
       "      <th>median_ic50_3f_hn</th>\n",
       "      <th>log2_median_ic50_3f_hn</th>\n",
       "      <th>median_ic50_9f_hn</th>\n",
       "      <th>log2_median_ic50_9f_hn</th>\n",
       "      <th>num_sensitive</th>\n",
       "      <th>num_sensitive_hn</th>\n",
       "    </tr>\n",
       "    <tr>\n",
       "      <th>Drug ID</th>\n",
       "      <th></th>\n",
       "      <th></th>\n",
       "      <th></th>\n",
       "      <th></th>\n",
       "      <th></th>\n",
       "      <th></th>\n",
       "      <th></th>\n",
       "      <th></th>\n",
       "      <th></th>\n",
       "      <th></th>\n",
       "      <th></th>\n",
       "      <th></th>\n",
       "      <th></th>\n",
       "      <th></th>\n",
       "      <th></th>\n",
       "      <th></th>\n",
       "      <th></th>\n",
       "      <th></th>\n",
       "      <th></th>\n",
       "      <th></th>\n",
       "      <th></th>\n",
       "    </tr>\n",
       "  </thead>\n",
       "  <tbody>\n",
       "    <tr>\n",
       "      <th>1</th>\n",
       "      <td>Erlotinib</td>\n",
       "      <td>Tarceva, RG-1415, CP-358774, OSI-774, Ro-50823...</td>\n",
       "      <td>EGFR</td>\n",
       "      <td>EGFR signaling</td>\n",
       "      <td>S7786</td>\n",
       "      <td>183321-74-6</td>\n",
       "      <td>176870</td>\n",
       "      <td>(S1023, 183319-69-9, HCl)</td>\n",
       "      <td>7.045609</td>\n",
       "      <td>2.0</td>\n",
       "      <td>...</td>\n",
       "      <td>8.448890</td>\n",
       "      <td>3.078762</td>\n",
       "      <td>7.764640</td>\n",
       "      <td>217.465095</td>\n",
       "      <td>72.488365</td>\n",
       "      <td>6.179678</td>\n",
       "      <td>24.162788</td>\n",
       "      <td>4.594715</td>\n",
       "      <td>17</td>\n",
       "      <td>1</td>\n",
       "    </tr>\n",
       "    <tr>\n",
       "      <th>1001</th>\n",
       "      <td>AICA Ribonucleotide</td>\n",
       "      <td>AICAR, N1-(b-D-Ribofuranosyl)-5-aminoimidazole...</td>\n",
       "      <td>AMPK agonist</td>\n",
       "      <td>Metabolism</td>\n",
       "      <td>S1802</td>\n",
       "      <td>2627-69-2</td>\n",
       "      <td>65110</td>\n",
       "      <td>NaN</td>\n",
       "      <td>6.034272</td>\n",
       "      <td>2000.0</td>\n",
       "      <td>...</td>\n",
       "      <td>206.748380</td>\n",
       "      <td>7.691732</td>\n",
       "      <td>9.939784</td>\n",
       "      <td>982.139588</td>\n",
       "      <td>327.379863</td>\n",
       "      <td>8.354822</td>\n",
       "      <td>109.126621</td>\n",
       "      <td>6.769859</td>\n",
       "      <td>476</td>\n",
       "      <td>27</td>\n",
       "    </tr>\n",
       "    <tr>\n",
       "      <th>1003</th>\n",
       "      <td>Camptothecin</td>\n",
       "      <td>7-Ethyl-10-Hydroxy-Camptothecin, SN-38, Irinot...</td>\n",
       "      <td>TOP1</td>\n",
       "      <td>DNA replication</td>\n",
       "      <td>S1288</td>\n",
       "      <td>7689-03-4</td>\n",
       "      <td>104842</td>\n",
       "      <td>(SN-38, S4908, 86639-52-3) (Irinotecan, S1198,...</td>\n",
       "      <td>4.609530</td>\n",
       "      <td>0.1</td>\n",
       "      <td>...</td>\n",
       "      <td>0.002003</td>\n",
       "      <td>-8.963413</td>\n",
       "      <td>-7.587491</td>\n",
       "      <td>0.005199</td>\n",
       "      <td>0.001733</td>\n",
       "      <td>-9.172454</td>\n",
       "      <td>0.000578</td>\n",
       "      <td>-10.757416</td>\n",
       "      <td>688</td>\n",
       "      <td>30</td>\n",
       "    </tr>\n",
       "    <tr>\n",
       "      <th>1004</th>\n",
       "      <td>Vinblastine</td>\n",
       "      <td>Velban</td>\n",
       "      <td>Microtubule destabiliser</td>\n",
       "      <td>Mitosis</td>\n",
       "      <td>S1248</td>\n",
       "      <td>143-67-9</td>\n",
       "      <td>6710780</td>\n",
       "      <td>NaN</td>\n",
       "      <td>4.297122</td>\n",
       "      <td>0.1</td>\n",
       "      <td>...</td>\n",
       "      <td>0.001599</td>\n",
       "      <td>-9.289051</td>\n",
       "      <td>-7.150982</td>\n",
       "      <td>0.007036</td>\n",
       "      <td>0.002345</td>\n",
       "      <td>-8.735945</td>\n",
       "      <td>0.000782</td>\n",
       "      <td>-10.320907</td>\n",
       "      <td>753</td>\n",
       "      <td>33</td>\n",
       "    </tr>\n",
       "    <tr>\n",
       "      <th>1005</th>\n",
       "      <td>Cisplatin</td>\n",
       "      <td>cis-Diammineplatinum(II) dichloride, Platinol,...</td>\n",
       "      <td>DNA crosslinker</td>\n",
       "      <td>DNA replication</td>\n",
       "      <td>S1166</td>\n",
       "      <td>15663-27-1</td>\n",
       "      <td>84691</td>\n",
       "      <td>NaN</td>\n",
       "      <td>7.203618</td>\n",
       "      <td>6.0</td>\n",
       "      <td>...</td>\n",
       "      <td>1.328214</td>\n",
       "      <td>0.409488</td>\n",
       "      <td>3.486279</td>\n",
       "      <td>11.206619</td>\n",
       "      <td>3.735540</td>\n",
       "      <td>1.901317</td>\n",
       "      <td>1.245180</td>\n",
       "      <td>0.316354</td>\n",
       "      <td>175</td>\n",
       "      <td>9</td>\n",
       "    </tr>\n",
       "  </tbody>\n",
       "</table>\n",
       "<p>5 rows × 27 columns</p>\n",
       "</div>"
      ],
      "text/plain": [
       "                   Drug Name  \\\n",
       "Drug ID                        \n",
       "1                  Erlotinib   \n",
       "1001     AICA Ribonucleotide   \n",
       "1003            Camptothecin   \n",
       "1004             Vinblastine   \n",
       "1005               Cisplatin   \n",
       "\n",
       "                                                  Synonyms  \\\n",
       "Drug ID                                                      \n",
       "1        Tarceva, RG-1415, CP-358774, OSI-774, Ro-50823...   \n",
       "1001     AICAR, N1-(b-D-Ribofuranosyl)-5-aminoimidazole...   \n",
       "1003     7-Ethyl-10-Hydroxy-Camptothecin, SN-38, Irinot...   \n",
       "1004                                                Velban   \n",
       "1005     cis-Diammineplatinum(II) dichloride, Platinol,...   \n",
       "\n",
       "                           Target   Target Pathway Selleckchem Cat#  \\\n",
       "Drug ID                                                               \n",
       "1                            EGFR   EGFR signaling            S7786   \n",
       "1001                 AMPK agonist       Metabolism            S1802   \n",
       "1003                         TOP1  DNA replication            S1288   \n",
       "1004     Microtubule destabiliser          Mitosis            S1248   \n",
       "1005              DNA crosslinker  DNA replication            S1166   \n",
       "\n",
       "          CAS number  PubCHEM  \\\n",
       "Drug ID                         \n",
       "1        183321-74-6   176870   \n",
       "1001       2627-69-2    65110   \n",
       "1003       7689-03-4   104842   \n",
       "1004        143-67-9  6710780   \n",
       "1005      15663-27-1    84691   \n",
       "\n",
       "                                                    Others   entropy  \\\n",
       "Drug ID                                                                \n",
       "1                                (S1023, 183319-69-9, HCl)  7.045609   \n",
       "1001                                                   NaN  6.034272   \n",
       "1003     (SN-38, S4908, 86639-52-3) (Irinotecan, S1198,...  4.609530   \n",
       "1004                                                   NaN  4.297122   \n",
       "1005                                                   NaN  7.203618   \n",
       "\n",
       "         max_conc  ...  median_ic50_9f  log2_median_ic50_9f  \\\n",
       "Drug ID            ...                                        \n",
       "1             2.0  ...        8.448890             3.078762   \n",
       "1001       2000.0  ...      206.748380             7.691732   \n",
       "1003          0.1  ...        0.002003            -8.963413   \n",
       "1004          0.1  ...        0.001599            -9.289051   \n",
       "1005          6.0  ...        1.328214             0.409488   \n",
       "\n",
       "         log2_median_ic50_hn  median_ic50_hn  median_ic50_3f_hn  \\\n",
       "Drug ID                                                           \n",
       "1                   7.764640      217.465095          72.488365   \n",
       "1001                9.939784      982.139588         327.379863   \n",
       "1003               -7.587491        0.005199           0.001733   \n",
       "1004               -7.150982        0.007036           0.002345   \n",
       "1005                3.486279       11.206619           3.735540   \n",
       "\n",
       "         log2_median_ic50_3f_hn  median_ic50_9f_hn  log2_median_ic50_9f_hn  \\\n",
       "Drug ID                                                                      \n",
       "1                      6.179678          24.162788                4.594715   \n",
       "1001                   8.354822         109.126621                6.769859   \n",
       "1003                  -9.172454           0.000578              -10.757416   \n",
       "1004                  -8.735945           0.000782              -10.320907   \n",
       "1005                   1.901317           1.245180                0.316354   \n",
       "\n",
       "         num_sensitive  num_sensitive_hn  \n",
       "Drug ID                                   \n",
       "1                   17                 1  \n",
       "1001               476                27  \n",
       "1003               688                30  \n",
       "1004               753                33  \n",
       "1005               175                 9  \n",
       "\n",
       "[5 rows x 27 columns]"
      ]
     },
     "execution_count": 96,
     "metadata": {},
     "output_type": "execute_result"
    }
   ],
   "source": [
    "dataset_drug_df = pd.read_csv('../preprocessed_data/GDSC/drug_stat.csv', index_col=0) # hn_drug_stat | drug_stat\n",
    "dataset_drug_df.index = dataset_drug_df.index.astype(str)\n",
    "\n",
    "dataset_drug_list = dataset_drug_df.index\n",
    "dataset_drug_df.shape\n",
    "print(\"Dataframe shape:\", dataset_drug_df.shape, \"\\n\")\n",
    "dataset_drug_df.head(5)"
   ]
  },
  {
   "cell_type": "markdown",
   "metadata": {},
   "source": [
    "## Read gene expression\n",
    "\n",
    "The file can be download from https://www.dropbox.com/s/3v576mspw5yewbm/GDSC_exp.tsv?dl=0"
   ]
  },
  {
   "cell_type": "code",
   "execution_count": 97,
   "metadata": {
    "ExecuteTime": {
     "end_time": "2020-12-04T00:58:52.825077Z",
     "start_time": "2020-12-04T00:58:46.517663Z"
    }
   },
   "outputs": [
    {
     "name": "stdout",
     "output_type": "stream",
     "text": [
      "Dataframe shape: (17737, 1018) \n",
      "\n"
     ]
    },
    {
     "data": {
      "text/plain": [
       "Index(['906826', '687983', '910927', '1240138', '1240139', '906792', '910688',\n",
       "       '1240135', '1290812', '907045',\n",
       "       ...\n",
       "       '753584', '907044', '998184', '908145', '1659787', '1298157', '1480372',\n",
       "       '1298533', '930299', '905954.1'],\n",
       "      dtype='object', length=1018)"
      ]
     },
     "execution_count": 97,
     "metadata": {},
     "output_type": "execute_result"
    }
   ],
   "source": [
    "gene_exp_df = pd.read_csv('../data/GDSC/GDSC_exp.tsv', sep='\\t', index_col=0)\n",
    "print(\"Dataframe shape:\", gene_exp_df.shape, \"\\n\")\n",
    "gene_exp_df.columns"
   ]
  },
  {
   "cell_type": "markdown",
   "metadata": {},
   "source": [
    "If there is any gene with mutiple probes, calculate the mean."
   ]
  },
  {
   "cell_type": "code",
   "execution_count": 98,
   "metadata": {
    "ExecuteTime": {
     "end_time": "2020-12-04T00:58:53.256046Z",
     "start_time": "2020-12-04T00:58:52.826498Z"
    }
   },
   "outputs": [
    {
     "name": "stdout",
     "output_type": "stream",
     "text": [
      "Dataframe shape: (17419, 1018) \n",
      "\n"
     ]
    },
    {
     "data": {
      "text/plain": [
       "<bound method DataFrame.items of             906826    687983    910927   1240138   1240139    906792  \\\n",
       "GENE                                                                   \n",
       "A1BG      6.208447  5.025810  5.506955  4.208349  3.399366  4.917872   \n",
       "A1CF      2.981775  2.947547  2.872071  3.075478  2.853231  3.221491   \n",
       "A2M       3.133883  3.335711  3.287678  3.029602  3.263129  6.877324   \n",
       "A2ML1     2.652527  2.734617  3.946546  2.776204  2.708683  2.907140   \n",
       "A3GALT2P  2.759164  2.867167  3.007847  2.628118  2.690651  2.587249   \n",
       "...            ...       ...       ...       ...       ...       ...   \n",
       "ZYG11A    3.356583  3.569947  2.777126  2.658556  2.728445  2.862462   \n",
       "ZYG11B    5.057855  5.841296  4.762718  4.332353  5.469322  4.453835   \n",
       "ZYX       4.415610  3.985445  4.792370  5.744011  5.402432  4.186831   \n",
       "ZZEF1     4.406069  5.068493  4.825940  5.190881  5.329415  4.900134   \n",
       "ZZZ3      8.254065  7.250144  7.696257  6.025487  6.474561  7.503679   \n",
       "\n",
       "            910688   1240135   1290812    907045  ...    753584    907044  \\\n",
       "GENE                                              ...                       \n",
       "A1BG      3.828088  5.146903  3.107543  5.062066  ...  4.272172  3.435025   \n",
       "A1CF      2.996355  2.893977  2.755668  2.985650  ...  2.941659  3.155536   \n",
       "A2M       3.301960  3.371938  3.322457  3.529651  ...  3.887326  3.472969   \n",
       "A2ML1     2.785069  2.822788  2.730261  2.970912  ...  2.898379  2.787509   \n",
       "A3GALT2P  2.922701  2.737292  2.994183  3.039915  ...  2.958449  3.058795   \n",
       "...            ...       ...       ...       ...  ...       ...       ...   \n",
       "ZYG11A    2.681429  3.089484  2.666398  3.126392  ...  3.345495  3.055731   \n",
       "ZYG11B    4.182885  5.238322  5.615598  4.387369  ...  4.819805  4.261383   \n",
       "ZYX       4.433024  6.572154  5.932159  5.370689  ...  6.322411  4.250447   \n",
       "ZZEF1     5.565821  5.320299  4.841560  5.702363  ...  4.589961  5.451798   \n",
       "ZZZ3      6.994395  7.198992  7.918063  7.588563  ...  7.922883  7.329984   \n",
       "\n",
       "            998184    908145   1659787   1298157   1480372   1298533  \\\n",
       "GENE                                                                   \n",
       "A1BG      4.930052  2.900213  4.523712  5.074951  2.957153  3.089628   \n",
       "A1CF      2.983619  3.118312  2.975409  2.905804  2.944488  2.780003   \n",
       "A2M       3.245908  6.337541  3.528033  3.154983  3.196588  3.476136   \n",
       "A2ML1     2.707677  2.830112  2.756659  2.745150  2.906095  2.914172   \n",
       "A3GALT2P  2.763476  2.600893  2.772254  2.839150  2.697731  2.656827   \n",
       "...            ...       ...       ...       ...       ...       ...   \n",
       "ZYG11A    2.793218  2.800422  2.923589  3.697621  3.023903  2.987214   \n",
       "ZYG11B    4.121948  5.388685  4.851263  5.314095  5.015648  3.801265   \n",
       "ZYX       4.313386  4.674237  5.205580  4.728053  6.281286  3.958951   \n",
       "ZZEF1     5.485645  4.785245  3.960995  4.636421  4.235059  4.836583   \n",
       "ZZZ3      7.363183  8.203441  7.682358  7.044972  7.204302  6.727107   \n",
       "\n",
       "            930299  905954.1  \n",
       "GENE                          \n",
       "A1BG      4.047364  5.329524  \n",
       "A1CF      2.870819  2.926353  \n",
       "A2M       5.159942  8.850566  \n",
       "A2ML1     2.788403  2.984658  \n",
       "A3GALT2P  2.760036  2.598021  \n",
       "...            ...       ...  \n",
       "ZYG11A    2.827510  2.881215  \n",
       "ZYG11B    4.553557  4.812741  \n",
       "ZYX       3.929630  4.537352  \n",
       "ZZEF1     4.785706  4.698450  \n",
       "ZZZ3      5.944593  9.096858  \n",
       "\n",
       "[17419 rows x 1018 columns]>"
      ]
     },
     "execution_count": 98,
     "metadata": {},
     "output_type": "execute_result"
    }
   ],
   "source": [
    "gene_exp_df = gene_exp_df.groupby(gene_exp_df.index).mean()\n",
    "print(\"Dataframe shape:\", gene_exp_df.shape, \"\\n\")\n",
    "gene_exp_df.items"
   ]
  },
  {
   "cell_type": "markdown",
   "metadata": {},
   "source": [
    "### Normalize gene expression\n",
    "We normalized baseline gene expression values for each gene by computing fold-changes compared to the average value across cell-lines"
   ]
  },
  {
   "cell_type": "code",
   "execution_count": 99,
   "metadata": {
    "ExecuteTime": {
     "end_time": "2020-12-04T00:58:57.267701Z",
     "start_time": "2020-12-04T00:58:53.257323Z"
    }
   },
   "outputs": [
    {
     "data": {
      "text/html": [
       "<div>\n",
       "<style scoped>\n",
       "    .dataframe tbody tr th:only-of-type {\n",
       "        vertical-align: middle;\n",
       "    }\n",
       "\n",
       "    .dataframe tbody tr th {\n",
       "        vertical-align: top;\n",
       "    }\n",
       "\n",
       "    .dataframe thead th {\n",
       "        text-align: right;\n",
       "    }\n",
       "</style>\n",
       "<table border=\"1\" class=\"dataframe\">\n",
       "  <thead>\n",
       "    <tr style=\"text-align: right;\">\n",
       "      <th></th>\n",
       "      <th>906826</th>\n",
       "      <th>687983</th>\n",
       "      <th>910927</th>\n",
       "      <th>1240138</th>\n",
       "      <th>1240139</th>\n",
       "      <th>906792</th>\n",
       "      <th>910688</th>\n",
       "      <th>1240135</th>\n",
       "      <th>1290812</th>\n",
       "      <th>907045</th>\n",
       "      <th>...</th>\n",
       "      <th>753584</th>\n",
       "      <th>907044</th>\n",
       "      <th>998184</th>\n",
       "      <th>908145</th>\n",
       "      <th>1659787</th>\n",
       "      <th>1298157</th>\n",
       "      <th>1480372</th>\n",
       "      <th>1298533</th>\n",
       "      <th>930299</th>\n",
       "      <th>905954.1</th>\n",
       "    </tr>\n",
       "    <tr>\n",
       "      <th>GENE</th>\n",
       "      <th></th>\n",
       "      <th></th>\n",
       "      <th></th>\n",
       "      <th></th>\n",
       "      <th></th>\n",
       "      <th></th>\n",
       "      <th></th>\n",
       "      <th></th>\n",
       "      <th></th>\n",
       "      <th></th>\n",
       "      <th></th>\n",
       "      <th></th>\n",
       "      <th></th>\n",
       "      <th></th>\n",
       "      <th></th>\n",
       "      <th></th>\n",
       "      <th></th>\n",
       "      <th></th>\n",
       "      <th></th>\n",
       "      <th></th>\n",
       "      <th></th>\n",
       "    </tr>\n",
       "  </thead>\n",
       "  <tbody>\n",
       "    <tr>\n",
       "      <th>A1BG</th>\n",
       "      <td>1.943238</td>\n",
       "      <td>0.760601</td>\n",
       "      <td>1.241746</td>\n",
       "      <td>-0.056860</td>\n",
       "      <td>-0.865843</td>\n",
       "      <td>0.652663</td>\n",
       "      <td>-0.437121</td>\n",
       "      <td>0.881693</td>\n",
       "      <td>-1.157667</td>\n",
       "      <td>0.796857</td>\n",
       "      <td>...</td>\n",
       "      <td>0.006963</td>\n",
       "      <td>-0.830184</td>\n",
       "      <td>0.664843</td>\n",
       "      <td>-1.364996</td>\n",
       "      <td>0.258502</td>\n",
       "      <td>0.809742</td>\n",
       "      <td>-1.308057</td>\n",
       "      <td>-1.175581</td>\n",
       "      <td>-0.217845</td>\n",
       "      <td>1.064315</td>\n",
       "    </tr>\n",
       "    <tr>\n",
       "      <th>A1CF</th>\n",
       "      <td>-0.268618</td>\n",
       "      <td>-0.302846</td>\n",
       "      <td>-0.378322</td>\n",
       "      <td>-0.174915</td>\n",
       "      <td>-0.397162</td>\n",
       "      <td>-0.028902</td>\n",
       "      <td>-0.254037</td>\n",
       "      <td>-0.356416</td>\n",
       "      <td>-0.494724</td>\n",
       "      <td>-0.264743</td>\n",
       "      <td>...</td>\n",
       "      <td>-0.308733</td>\n",
       "      <td>-0.094857</td>\n",
       "      <td>-0.266774</td>\n",
       "      <td>-0.132081</td>\n",
       "      <td>-0.274984</td>\n",
       "      <td>-0.344589</td>\n",
       "      <td>-0.305905</td>\n",
       "      <td>-0.470389</td>\n",
       "      <td>-0.379573</td>\n",
       "      <td>-0.324040</td>\n",
       "    </tr>\n",
       "    <tr>\n",
       "      <th>A2M</th>\n",
       "      <td>-0.828135</td>\n",
       "      <td>-0.626306</td>\n",
       "      <td>-0.674340</td>\n",
       "      <td>-0.932415</td>\n",
       "      <td>-0.698889</td>\n",
       "      <td>2.915306</td>\n",
       "      <td>-0.660058</td>\n",
       "      <td>-0.590080</td>\n",
       "      <td>-0.639561</td>\n",
       "      <td>-0.432366</td>\n",
       "      <td>...</td>\n",
       "      <td>-0.074692</td>\n",
       "      <td>-0.489049</td>\n",
       "      <td>-0.716109</td>\n",
       "      <td>2.375523</td>\n",
       "      <td>-0.433984</td>\n",
       "      <td>-0.807035</td>\n",
       "      <td>-0.765430</td>\n",
       "      <td>-0.485882</td>\n",
       "      <td>1.197925</td>\n",
       "      <td>4.888548</td>\n",
       "    </tr>\n",
       "    <tr>\n",
       "      <th>A2ML1</th>\n",
       "      <td>-0.294075</td>\n",
       "      <td>-0.211986</td>\n",
       "      <td>0.999944</td>\n",
       "      <td>-0.170398</td>\n",
       "      <td>-0.237920</td>\n",
       "      <td>-0.039463</td>\n",
       "      <td>-0.161534</td>\n",
       "      <td>-0.123814</td>\n",
       "      <td>-0.216341</td>\n",
       "      <td>0.024310</td>\n",
       "      <td>...</td>\n",
       "      <td>-0.048223</td>\n",
       "      <td>-0.159094</td>\n",
       "      <td>-0.238925</td>\n",
       "      <td>-0.116490</td>\n",
       "      <td>-0.189943</td>\n",
       "      <td>-0.201452</td>\n",
       "      <td>-0.040507</td>\n",
       "      <td>-0.032430</td>\n",
       "      <td>-0.158200</td>\n",
       "      <td>0.038056</td>\n",
       "    </tr>\n",
       "    <tr>\n",
       "      <th>A3GALT2P</th>\n",
       "      <td>-0.069974</td>\n",
       "      <td>0.038030</td>\n",
       "      <td>0.178710</td>\n",
       "      <td>-0.201020</td>\n",
       "      <td>-0.138486</td>\n",
       "      <td>-0.241889</td>\n",
       "      <td>0.093563</td>\n",
       "      <td>-0.091846</td>\n",
       "      <td>0.165046</td>\n",
       "      <td>0.210778</td>\n",
       "      <td>...</td>\n",
       "      <td>0.129311</td>\n",
       "      <td>0.229658</td>\n",
       "      <td>-0.065662</td>\n",
       "      <td>-0.228245</td>\n",
       "      <td>-0.056884</td>\n",
       "      <td>0.010012</td>\n",
       "      <td>-0.131407</td>\n",
       "      <td>-0.172311</td>\n",
       "      <td>-0.069101</td>\n",
       "      <td>-0.231117</td>\n",
       "    </tr>\n",
       "  </tbody>\n",
       "</table>\n",
       "<p>5 rows × 1018 columns</p>\n",
       "</div>"
      ],
      "text/plain": [
       "            906826    687983    910927   1240138   1240139    906792  \\\n",
       "GENE                                                                   \n",
       "A1BG      1.943238  0.760601  1.241746 -0.056860 -0.865843  0.652663   \n",
       "A1CF     -0.268618 -0.302846 -0.378322 -0.174915 -0.397162 -0.028902   \n",
       "A2M      -0.828135 -0.626306 -0.674340 -0.932415 -0.698889  2.915306   \n",
       "A2ML1    -0.294075 -0.211986  0.999944 -0.170398 -0.237920 -0.039463   \n",
       "A3GALT2P -0.069974  0.038030  0.178710 -0.201020 -0.138486 -0.241889   \n",
       "\n",
       "            910688   1240135   1290812    907045  ...    753584    907044  \\\n",
       "GENE                                              ...                       \n",
       "A1BG     -0.437121  0.881693 -1.157667  0.796857  ...  0.006963 -0.830184   \n",
       "A1CF     -0.254037 -0.356416 -0.494724 -0.264743  ... -0.308733 -0.094857   \n",
       "A2M      -0.660058 -0.590080 -0.639561 -0.432366  ... -0.074692 -0.489049   \n",
       "A2ML1    -0.161534 -0.123814 -0.216341  0.024310  ... -0.048223 -0.159094   \n",
       "A3GALT2P  0.093563 -0.091846  0.165046  0.210778  ...  0.129311  0.229658   \n",
       "\n",
       "            998184    908145   1659787   1298157   1480372   1298533  \\\n",
       "GENE                                                                   \n",
       "A1BG      0.664843 -1.364996  0.258502  0.809742 -1.308057 -1.175581   \n",
       "A1CF     -0.266774 -0.132081 -0.274984 -0.344589 -0.305905 -0.470389   \n",
       "A2M      -0.716109  2.375523 -0.433984 -0.807035 -0.765430 -0.485882   \n",
       "A2ML1    -0.238925 -0.116490 -0.189943 -0.201452 -0.040507 -0.032430   \n",
       "A3GALT2P -0.065662 -0.228245 -0.056884  0.010012 -0.131407 -0.172311   \n",
       "\n",
       "            930299  905954.1  \n",
       "GENE                          \n",
       "A1BG     -0.217845  1.064315  \n",
       "A1CF     -0.379573 -0.324040  \n",
       "A2M       1.197925  4.888548  \n",
       "A2ML1    -0.158200  0.038056  \n",
       "A3GALT2P -0.069101 -0.231117  \n",
       "\n",
       "[5 rows x 1018 columns]"
      ]
     },
     "execution_count": 99,
     "metadata": {},
     "output_type": "execute_result"
    }
   ],
   "source": [
    "cell_line_log2_mean_fc_exp_df, cell_line_mean_exp_df = pp.gexp.normalize_log2_mean_fc(gene_exp_df)\n",
    "cell_line_log2_mean_fc_exp_df.head(5)"
   ]
  },
  {
   "cell_type": "markdown",
   "metadata": {},
   "source": [
    "### Read essential genes list\n",
    "\n",
    "Or in case you want your training using one specific set of genes."
   ]
  },
  {
   "cell_type": "code",
   "execution_count": 117,
   "metadata": {
    "ExecuteTime": {
     "end_time": "2020-12-04T00:58:59.707850Z",
     "start_time": "2020-12-04T00:58:59.688810Z"
    }
   },
   "outputs": [
    {
     "name": "stdout",
     "output_type": "stream",
     "text": [
      "634\n"
     ]
    }
   ],
   "source": [
    "# ess_gene_list = utility.get_gene_list('../data/essential_genes.txt')\n",
    "ess_gene_list = utility.read_first_column('../data/IntOGen-DriverGenes.tsv')\n",
    "print(len(ess_gene_list))"
   ]
  },
  {
   "cell_type": "markdown",
   "metadata": {},
   "source": [
    "### Sample with both expression and response data"
   ]
  },
  {
   "cell_type": "code",
   "execution_count": 124,
   "metadata": {
    "ExecuteTime": {
     "end_time": "2020-12-04T00:59:00.575053Z",
     "start_time": "2020-12-04T00:59:00.570718Z"
    }
   },
   "outputs": [
    {
     "data": {
      "text/plain": [
       "985"
      ]
     },
     "execution_count": 124,
     "metadata": {},
     "output_type": "execute_result"
    }
   ],
   "source": [
    "cell_line_sample_list = np.array([s for s in cell_line_sample_list if s in gene_exp_df.columns])\n",
    "len(cell_line_sample_list)"
   ]
  },
  {
   "cell_type": "markdown",
   "metadata": {},
   "source": [
    "Arrange gene expression and drug response matrix"
   ]
  },
  {
   "cell_type": "code",
   "execution_count": null,
   "metadata": {
    "ExecuteTime": {
     "end_time": "2020-12-04T00:59:03.595931Z",
     "start_time": "2020-12-04T00:59:03.520288Z"
    }
   },
   "outputs": [
    {
     "data": {
      "text/plain": [
       "((17419, 985), (985, 226), (226, 27))"
      ]
     },
     "execution_count": 125,
     "metadata": {},
     "output_type": "execute_result"
    }
   ],
   "source": [
    "cell_line_log2_mean_fc_exp_df = cell_line_log2_mean_fc_exp_df[cell_line_sample_list]\n",
    "print(cell_line_obs_df.shape)\n",
    "cell_line_obs_df = cell_line_obs_df.loc[cell_line_sample_list, dataset_drug_list]\n",
    "dataset_drug_df = dataset_drug_df.loc[dataset_drug_list]\n",
    "\n",
    "cell_line_log2_mean_fc_exp_df.shape, cell_line_obs_df.shape, dataset_drug_df.shape"
   ]
  },
  {
   "cell_type": "markdown",
   "metadata": {},
   "source": [
    "# Calculate kernel feature \n",
    "\n",
    "Based on all given cell line samples with gene expression profiles and a list of genes (e.g. essential gene list). This step might take a bit more time than the usual."
   ]
  },
  {
   "cell_type": "code",
   "execution_count": 103,
   "metadata": {
    "ExecuteTime": {
     "end_time": "2020-12-04T01:00:55.393887Z",
     "start_time": "2020-12-04T00:59:08.857488Z"
    }
   },
   "outputs": [
    {
     "name": "stdout",
     "output_type": "stream",
     "text": [
      "Calculating kernel features based on 591 common genes\n",
      "(17419, 985) (17419, 985)\n",
      "100 of 985 (73.48)s\n",
      "200 of 985 (74.07)s\n",
      "300 of 985 (74.29)s\n",
      "400 of 985 (74.01)s\n",
      "500 of 985 (70.28)s\n",
      "600 of 985 (70.25)s\n",
      "700 of 985 (70.16)s\n",
      "800 of 985 (70.27)s\n",
      "900 of 985 (70.32)s\n"
     ]
    }
   ],
   "source": [
    "kernel_feature_df = pp.gexp.calculate_kernel_feature(cell_line_log2_mean_fc_exp_df, cell_line_log2_mean_fc_exp_df, ess_gene_list).loc[cell_line_sample_list]"
   ]
  },
  {
   "cell_type": "markdown",
   "metadata": {},
   "source": [
    "# Model training"
   ]
  },
  {
   "cell_type": "code",
   "execution_count": 116,
   "metadata": {
    "ExecuteTime": {
     "end_time": "2020-12-04T01:00:55.404007Z",
     "start_time": "2020-12-04T01:00:55.395329Z"
    }
   },
   "outputs": [
    {
     "name": "stdout",
     "output_type": "stream",
     "text": [
      "985\n"
     ]
    }
   ],
   "source": [
    "# kernel feature based only on training samples\n",
    "X_train = kernel_feature_df.loc[cell_line_sample_list, cell_line_sample_list]\n",
    "# observed drug response\n",
    "Y_train = cell_line_obs_df.loc[cell_line_sample_list]"
   ]
  },
  {
   "cell_type": "code",
   "execution_count": 105,
   "metadata": {
    "ExecuteTime": {
     "end_time": "2020-12-04T01:00:55.423167Z",
     "start_time": "2020-12-04T01:00:55.405529Z"
    }
   },
   "outputs": [
    {
     "name": "stdout",
     "output_type": "stream",
     "text": [
      "Dataframe shape: (985, 985) \n",
      "\n"
     ]
    },
    {
     "data": {
      "text/html": [
       "<div>\n",
       "<style scoped>\n",
       "    .dataframe tbody tr th:only-of-type {\n",
       "        vertical-align: middle;\n",
       "    }\n",
       "\n",
       "    .dataframe tbody tr th {\n",
       "        vertical-align: top;\n",
       "    }\n",
       "\n",
       "    .dataframe thead th {\n",
       "        text-align: right;\n",
       "    }\n",
       "</style>\n",
       "<table border=\"1\" class=\"dataframe\">\n",
       "  <thead>\n",
       "    <tr style=\"text-align: right;\">\n",
       "      <th></th>\n",
       "      <th>1240121</th>\n",
       "      <th>1240122</th>\n",
       "      <th>1240123</th>\n",
       "      <th>1240124</th>\n",
       "      <th>1240125</th>\n",
       "      <th>1240127</th>\n",
       "      <th>1240128</th>\n",
       "      <th>1240129</th>\n",
       "      <th>1240130</th>\n",
       "      <th>1240131</th>\n",
       "      <th>...</th>\n",
       "      <th>949175</th>\n",
       "      <th>949176</th>\n",
       "      <th>949177</th>\n",
       "      <th>949178</th>\n",
       "      <th>949179</th>\n",
       "      <th>971773</th>\n",
       "      <th>971774</th>\n",
       "      <th>971777</th>\n",
       "      <th>998184</th>\n",
       "      <th>998189</th>\n",
       "    </tr>\n",
       "  </thead>\n",
       "  <tbody>\n",
       "    <tr>\n",
       "      <th>1240121</th>\n",
       "      <td>1.000000</td>\n",
       "      <td>0.630082</td>\n",
       "      <td>0.112665</td>\n",
       "      <td>0.319995</td>\n",
       "      <td>-0.059488</td>\n",
       "      <td>-0.118530</td>\n",
       "      <td>0.020950</td>\n",
       "      <td>0.164217</td>\n",
       "      <td>0.033459</td>\n",
       "      <td>0.086305</td>\n",
       "      <td>...</td>\n",
       "      <td>-0.416072</td>\n",
       "      <td>-0.319743</td>\n",
       "      <td>-0.377288</td>\n",
       "      <td>-0.376035</td>\n",
       "      <td>-0.310759</td>\n",
       "      <td>-0.146796</td>\n",
       "      <td>-0.255095</td>\n",
       "      <td>-0.180890</td>\n",
       "      <td>-0.283963</td>\n",
       "      <td>0.120126</td>\n",
       "    </tr>\n",
       "    <tr>\n",
       "      <th>1240122</th>\n",
       "      <td>0.630082</td>\n",
       "      <td>1.000000</td>\n",
       "      <td>0.164760</td>\n",
       "      <td>0.214418</td>\n",
       "      <td>-0.175414</td>\n",
       "      <td>0.032908</td>\n",
       "      <td>-0.074793</td>\n",
       "      <td>0.142435</td>\n",
       "      <td>-0.002246</td>\n",
       "      <td>0.027819</td>\n",
       "      <td>...</td>\n",
       "      <td>-0.261070</td>\n",
       "      <td>-0.187578</td>\n",
       "      <td>-0.215189</td>\n",
       "      <td>-0.205727</td>\n",
       "      <td>-0.220808</td>\n",
       "      <td>-0.084657</td>\n",
       "      <td>-0.097722</td>\n",
       "      <td>-0.067442</td>\n",
       "      <td>-0.153784</td>\n",
       "      <td>0.123865</td>\n",
       "    </tr>\n",
       "  </tbody>\n",
       "</table>\n",
       "<p>2 rows × 985 columns</p>\n",
       "</div>"
      ],
      "text/plain": [
       "          1240121   1240122   1240123   1240124   1240125   1240127   1240128  \\\n",
       "1240121  1.000000  0.630082  0.112665  0.319995 -0.059488 -0.118530  0.020950   \n",
       "1240122  0.630082  1.000000  0.164760  0.214418 -0.175414  0.032908 -0.074793   \n",
       "\n",
       "          1240129   1240130   1240131  ...    949175    949176    949177  \\\n",
       "1240121  0.164217  0.033459  0.086305  ... -0.416072 -0.319743 -0.377288   \n",
       "1240122  0.142435 -0.002246  0.027819  ... -0.261070 -0.187578 -0.215189   \n",
       "\n",
       "           949178    949179    971773    971774    971777    998184    998189  \n",
       "1240121 -0.376035 -0.310759 -0.146796 -0.255095 -0.180890 -0.283963  0.120126  \n",
       "1240122 -0.205727 -0.220808 -0.084657 -0.097722 -0.067442 -0.153784  0.123865  \n",
       "\n",
       "[2 rows x 985 columns]"
      ]
     },
     "execution_count": 105,
     "metadata": {},
     "output_type": "execute_result"
    }
   ],
   "source": [
    "print(\"Dataframe shape:\", X_train.shape, \"\\n\")\n",
    "X_train.head(2)"
   ]
  },
  {
   "cell_type": "code",
   "execution_count": 106,
   "metadata": {
    "ExecuteTime": {
     "end_time": "2020-12-04T01:00:55.440999Z",
     "start_time": "2020-12-04T01:00:55.424322Z"
    }
   },
   "outputs": [
    {
     "name": "stdout",
     "output_type": "stream",
     "text": [
      "Dataframe shape: (985, 226) \n",
      "\n"
     ]
    },
    {
     "data": {
      "text/html": [
       "<div>\n",
       "<style scoped>\n",
       "    .dataframe tbody tr th:only-of-type {\n",
       "        vertical-align: middle;\n",
       "    }\n",
       "\n",
       "    .dataframe tbody tr th {\n",
       "        vertical-align: top;\n",
       "    }\n",
       "\n",
       "    .dataframe thead th {\n",
       "        text-align: right;\n",
       "    }\n",
       "</style>\n",
       "<table border=\"1\" class=\"dataframe\">\n",
       "  <thead>\n",
       "    <tr style=\"text-align: right;\">\n",
       "      <th>Drug ID</th>\n",
       "      <th>1</th>\n",
       "      <th>1001</th>\n",
       "      <th>1003</th>\n",
       "      <th>1004</th>\n",
       "      <th>1005</th>\n",
       "      <th>1006</th>\n",
       "      <th>1007</th>\n",
       "      <th>1008</th>\n",
       "      <th>1009</th>\n",
       "      <th>1010</th>\n",
       "      <th>...</th>\n",
       "      <th>64</th>\n",
       "      <th>71</th>\n",
       "      <th>83</th>\n",
       "      <th>86</th>\n",
       "      <th>87</th>\n",
       "      <th>88</th>\n",
       "      <th>89</th>\n",
       "      <th>9</th>\n",
       "      <th>91</th>\n",
       "      <th>94</th>\n",
       "    </tr>\n",
       "  </thead>\n",
       "  <tbody>\n",
       "    <tr>\n",
       "      <th>1240121</th>\n",
       "      <td>NaN</td>\n",
       "      <td>8.922340</td>\n",
       "      <td>-9.065271</td>\n",
       "      <td>-8.301324</td>\n",
       "      <td>1.998429</td>\n",
       "      <td>-2.455685</td>\n",
       "      <td>-11.688212</td>\n",
       "      <td>4.329096</td>\n",
       "      <td>9.033478</td>\n",
       "      <td>-0.035476</td>\n",
       "      <td>...</td>\n",
       "      <td>NaN</td>\n",
       "      <td>NaN</td>\n",
       "      <td>NaN</td>\n",
       "      <td>NaN</td>\n",
       "      <td>NaN</td>\n",
       "      <td>NaN</td>\n",
       "      <td>NaN</td>\n",
       "      <td>NaN</td>\n",
       "      <td>NaN</td>\n",
       "      <td>NaN</td>\n",
       "    </tr>\n",
       "    <tr>\n",
       "      <th>1240122</th>\n",
       "      <td>NaN</td>\n",
       "      <td>9.594524</td>\n",
       "      <td>-8.343748</td>\n",
       "      <td>-7.554691</td>\n",
       "      <td>6.033703</td>\n",
       "      <td>-2.145146</td>\n",
       "      <td>-10.332062</td>\n",
       "      <td>4.108168</td>\n",
       "      <td>7.775115</td>\n",
       "      <td>-4.102308</td>\n",
       "      <td>...</td>\n",
       "      <td>NaN</td>\n",
       "      <td>NaN</td>\n",
       "      <td>NaN</td>\n",
       "      <td>NaN</td>\n",
       "      <td>NaN</td>\n",
       "      <td>NaN</td>\n",
       "      <td>NaN</td>\n",
       "      <td>NaN</td>\n",
       "      <td>NaN</td>\n",
       "      <td>NaN</td>\n",
       "    </tr>\n",
       "  </tbody>\n",
       "</table>\n",
       "<p>2 rows × 226 columns</p>\n",
       "</div>"
      ],
      "text/plain": [
       "Drug ID   1      1001      1003      1004      1005      1006       1007  \\\n",
       "1240121 NaN  8.922340 -9.065271 -8.301324  1.998429 -2.455685 -11.688212   \n",
       "1240122 NaN  9.594524 -8.343748 -7.554691  6.033703 -2.145146 -10.332062   \n",
       "\n",
       "Drug ID      1008      1009      1010  ...  64  71  83  86  87  88  89   9  \\\n",
       "1240121  4.329096  9.033478 -0.035476  ... NaN NaN NaN NaN NaN NaN NaN NaN   \n",
       "1240122  4.108168  7.775115 -4.102308  ... NaN NaN NaN NaN NaN NaN NaN NaN   \n",
       "\n",
       "Drug ID  91  94  \n",
       "1240121 NaN NaN  \n",
       "1240122 NaN NaN  \n",
       "\n",
       "[2 rows x 226 columns]"
      ]
     },
     "execution_count": 106,
     "metadata": {},
     "output_type": "execute_result"
    }
   ],
   "source": [
    "print(\"Dataframe shape:\", Y_train.shape, \"\\n\")\n",
    "Y_train.head(2)"
   ]
  },
  {
   "cell_type": "markdown",
   "metadata": {},
   "source": [
    "## Select CaDRReS training for different objective functions\n",
    "\n",
    "1. `cadrres-wo-sample-bias`: CaDRReS + no bp (bp = sample bias)\n",
    "2. `cadrres-wo-sample-bias-weight`: CaDRReS + no bp + ciu + du (ciu = drug-sample weight w.r.t. maximum dosage, du = indication-specific weight). This is **CaDRReS-Sc** model."
   ]
  },
  {
   "cell_type": "code",
   "execution_count": 107,
   "metadata": {
    "ExecuteTime": {
     "end_time": "2020-12-04T01:02:03.643716Z",
     "start_time": "2020-12-04T01:02:03.636546Z"
    }
   },
   "outputs": [],
   "source": [
    "obj_function = widgets.Dropdown(options=['cadrres-wo-sample-bias', 'cadrres-wo-sample-bias-weight'], description='Objetice function')"
   ]
  },
  {
   "cell_type": "code",
   "execution_count": 108,
   "metadata": {
    "ExecuteTime": {
     "end_time": "2020-12-04T01:02:11.096333Z",
     "start_time": "2020-12-04T01:02:11.092875Z"
    }
   },
   "outputs": [
    {
     "data": {
      "application/vnd.jupyter.widget-view+json": {
       "model_id": "fbb1c707b60c4a68b71ab06a9250a781",
       "version_major": 2,
       "version_minor": 0
      },
      "text/plain": [
       "Dropdown(description='Objetice function', options=('cadrres-wo-sample-bias', 'cadrres-wo-sample-bias-weight'),…"
      ]
     },
     "metadata": {},
     "output_type": "display_data"
    }
   ],
   "source": [
    "display(obj_function)"
   ]
  },
  {
   "cell_type": "code",
   "execution_count": 109,
   "metadata": {
    "ExecuteTime": {
     "end_time": "2020-12-04T01:03:03.835499Z",
     "start_time": "2020-12-04T01:03:03.832349Z"
    }
   },
   "outputs": [
    {
     "data": {
      "text/plain": [
       "1"
      ]
     },
     "execution_count": 109,
     "metadata": {},
     "output_type": "execute_result"
    }
   ],
   "source": [
    "model_spec_name = obj_function.value # cadrres-wo-sample-bias | cadrres-wo-sample-bias-weight\n",
    "\n",
    "indication_specific_degree = 1 # multiply by 1 = no indication-specific\n",
    "# indication_specific_degree = 10\n",
    "\n",
    "indication_specific_degree"
   ]
  },
  {
   "cell_type": "markdown",
   "metadata": {},
   "source": [
    "## Specify output directory"
   ]
  },
  {
   "cell_type": "code",
   "execution_count": 110,
   "metadata": {
    "ExecuteTime": {
     "end_time": "2020-12-04T01:03:07.915256Z",
     "start_time": "2020-12-04T01:03:07.913156Z"
    }
   },
   "outputs": [],
   "source": [
    "output_dir = '../my_models/'"
   ]
  },
  {
   "cell_type": "code",
   "execution_count": 111,
   "metadata": {
    "ExecuteTime": {
     "end_time": "2020-12-04T01:03:09.164801Z",
     "start_time": "2020-12-04T01:03:09.161837Z"
    }
   },
   "outputs": [
    {
     "name": "stdout",
     "output_type": "stream",
     "text": [
      "Results will be saved in  ../my_models/\n"
     ]
    }
   ],
   "source": [
    "if not os.path.exists(output_dir):\n",
    "    os.makedirs(output_dir)\n",
    "\n",
    "print ('Results will be saved in ', output_dir)"
   ]
  },
  {
   "cell_type": "markdown",
   "metadata": {},
   "source": [
    "## Train CaDRReS Model "
   ]
  },
  {
   "cell_type": "markdown",
   "metadata": {},
   "source": [
    "Prepare x0 for calculating logistic sample weigh (o_i) based on maximum drug dosage"
   ]
  },
  {
   "cell_type": "code",
   "execution_count": 112,
   "metadata": {
    "ExecuteTime": {
     "end_time": "2020-12-04T01:03:11.295035Z",
     "start_time": "2020-12-04T01:03:11.291238Z"
    }
   },
   "outputs": [],
   "source": [
    "sample_weights_logistic_x0_df = model.get_sample_weights_logistic_x0(dataset_drug_df, 'log2_max_conc', X_train.index)"
   ]
  },
  {
   "cell_type": "markdown",
   "metadata": {},
   "source": [
    "Prepare indication weight (skip for this analysis = set all to 1)"
   ]
  },
  {
   "cell_type": "code",
   "execution_count": 113,
   "metadata": {
    "ExecuteTime": {
     "end_time": "2020-12-04T01:03:12.408704Z",
     "start_time": "2020-12-04T01:03:12.402750Z"
    }
   },
   "outputs": [],
   "source": [
    "indication_weight_df = pd.DataFrame(np.ones(Y_train.shape), index=Y_train.index, columns=Y_train.columns)\n",
    "cv_cell_line_hn_sample_list = [cl for cl in cell_line_hn_sample_list if cl in X_train.index]\n",
    "indication_weight_df.loc[cv_cell_line_hn_sample_list, :] = indication_weight_df.loc[cv_cell_line_hn_sample_list, :] * indication_specific_degree"
   ]
  },
  {
   "cell_type": "markdown",
   "metadata": {},
   "source": [
    "Start model training"
   ]
  },
  {
   "cell_type": "code",
   "execution_count": 114,
   "metadata": {
    "ExecuteTime": {
     "end_time": "2020-12-04T01:30:57.044618Z",
     "start_time": "2020-12-04T01:03:16.079136Z"
    }
   },
   "outputs": [
    {
     "name": "stdout",
     "output_type": "stream",
     "text": [
      "Initializing the model...\n",
      "Building the TensorFlow model...\n",
      "Training the model...\n",
      "WARNING:tensorflow:Gradients do not exist for variables ['b_P:0'] when minimizing the loss. If you're using `model.compile()`, did you forget to provide a `loss` argument?\n",
      "WARNING:tensorflow:Gradients do not exist for variables ['b_P:0'] when minimizing the loss. If you're using `model.compile()`, did you forget to provide a `loss` argument?\n",
      "Step 0, Train Loss: 18.2567, Time Elapsed: 0.01 min\n",
      "Step 5000, Train Loss: 12.1967, Time Elapsed: 0.69 min\n",
      "Step 10000, Train Loss: 9.2043, Time Elapsed: 1.37 min\n",
      "Step 15000, Train Loss: 7.3517, Time Elapsed: 2.05 min\n",
      "Step 20000, Train Loss: 6.1841, Time Elapsed: 2.77 min\n",
      "Step 25000, Train Loss: 5.4320, Time Elapsed: 3.54 min\n",
      "Step 30000, Train Loss: 4.9395, Time Elapsed: 4.31 min\n",
      "Step 35000, Train Loss: 4.6127, Time Elapsed: 5.06 min\n",
      "Step 40000, Train Loss: 4.3917, Time Elapsed: 5.80 min\n",
      "Step 45000, Train Loss: 4.2385, Time Elapsed: 6.56 min\n",
      "Step 50000, Train Loss: 4.1291, Time Elapsed: 7.32 min\n",
      "Step 55000, Train Loss: 4.0482, Time Elapsed: 7.97 min\n",
      "Step 60000, Train Loss: 3.9863, Time Elapsed: 8.61 min\n",
      "Step 65000, Train Loss: 3.9374, Time Elapsed: 9.26 min\n",
      "Step 70000, Train Loss: 3.8974, Time Elapsed: 9.90 min\n",
      "Step 75000, Train Loss: 3.8637, Time Elapsed: 10.55 min\n",
      "Step 80000, Train Loss: 3.8348, Time Elapsed: 11.19 min\n",
      "Step 85000, Train Loss: 3.8093, Time Elapsed: 11.84 min\n",
      "Step 90000, Train Loss: 3.7866, Time Elapsed: 12.48 min\n",
      "Step 95000, Train Loss: 3.7660, Time Elapsed: 13.12 min\n",
      "Finalizing training...\n",
      "Saving the trained model...\n"
     ]
    }
   ],
   "source": [
    "\n",
    "if model_spec_name in ['cadrres', 'cadrres-wo-sample-bias']:\n",
    "    cadrres_model_dict, cadrres_output_dict = model.train_model(Y_train, X_train, Y_train, X_train, 10, 0.0, 100000, 0.01, model_spec_name=model_spec_name, save_interval=5000, output_dir=output_dir)\n",
    "elif model_spec_name in ['cadrres-wo-sample-bias-weight']:\n",
    "    cadrres_model_dict, cadrres_output_dict = model.train_model_logistic_weight(Y_train, X_train, Y_train, X_train, sample_weights_logistic_x0_df, indication_weight_df, 10, 0.0, 100000, 0.01, model_spec_name=model_spec_name, save_interval=5000, output_dir=output_dir)"
   ]
  },
  {
   "cell_type": "markdown",
   "metadata": {},
   "source": [
    "## Save the final CaDRReS Model trained on your dataset\n",
    "\n",
    "- cadrres_model_dict contains model hyperparameters and trained parameters\n",
    "- cadrres_output_dict contains data and prediction on training dataset"
   ]
  },
  {
   "cell_type": "code",
   "execution_count": 115,
   "metadata": {
    "ExecuteTime": {
     "end_time": "2020-12-04T01:30:57.094227Z",
     "start_time": "2020-12-04T01:30:57.049565Z"
    }
   },
   "outputs": [
    {
     "name": "stdout",
     "output_type": "stream",
     "text": [
      "Saving ../my_models/cadrres-wo-sample-bias_param_dict.pickle\n",
      "Saving ../my_models/cadrres-wo-sample-bias_output_dict.pickle\n"
     ]
    }
   ],
   "source": [
    "print('Saving ' + output_dir + '{}_param_dict.pickle'.format(model_spec_name))\n",
    "pickle.dump(cadrres_model_dict, open(output_dir + '{}_param_dict.pickle'.format(model_spec_name), 'wb'))\n",
    "print('Saving ' + output_dir + '{}_output_dict.pickle'.format(model_spec_name))\n",
    "pickle.dump(cadrres_output_dict, open(output_dir + '{}_output_dict.pickle'.format(model_spec_name), 'wb'))"
   ]
  },
  {
   "cell_type": "markdown",
   "metadata": {},
   "source": [
    "# Next Step\n",
    "After you saved the CaDRReS-Sc model here, you can follow this [tutorial](./prediction_pretrained_model.ipynb) to predict drug response based on the pre-trained model."
   ]
  },
  {
   "cell_type": "markdown",
   "metadata": {},
   "source": [
    "---\n",
    "\n",
    "**Authors:** [Chayaporn Suphavilai](mailto:@.com), [Rafael Peres da Silva](), Genome Institute of Singapore, Nagarajan Lab, April 30, 2020\n",
    "\n",
    "---"
   ]
  },
  {
   "cell_type": "markdown",
   "metadata": {},
   "source": [
    "Reproducibility tips from https://github.com/jupyter-guide/ten-rules-jupyter"
   ]
  },
  {
   "cell_type": "code",
   "execution_count": null,
   "metadata": {},
   "outputs": [],
   "source": []
  }
 ],
 "metadata": {
  "kernelspec": {
   "display_name": "cadrres_sc",
   "language": "python",
   "name": "python3"
  },
  "language_info": {
   "codemirror_mode": {
    "name": "ipython",
    "version": 3
   },
   "file_extension": ".py",
   "mimetype": "text/x-python",
   "name": "python",
   "nbconvert_exporter": "python",
   "pygments_lexer": "ipython3",
   "version": "3.10.8"
  },
  "toc": {
   "base_numbering": 1,
   "nav_menu": {},
   "number_sections": false,
   "sideBar": true,
   "skip_h1_title": false,
   "title_cell": "Table of Contents",
   "title_sidebar": "Contents",
   "toc_cell": false,
   "toc_position": {
    "height": "calc(100% - 180px)",
    "left": "10px",
    "top": "150px",
    "width": "165px"
   },
   "toc_section_display": true,
   "toc_window_display": true
  }
 },
 "nbformat": 4,
 "nbformat_minor": 2
}
